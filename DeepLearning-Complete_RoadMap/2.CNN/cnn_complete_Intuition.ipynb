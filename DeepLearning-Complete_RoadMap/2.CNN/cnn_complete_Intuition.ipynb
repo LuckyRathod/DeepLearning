{
 "cells": [
  {
   "cell_type": "markdown",
   "metadata": {},
   "source": [
    "### T23 - Convolution neural network vs Human Brain\n",
    "\n",
    "Whenever your inputs are in form of Images/Video Frames we use Convolution neural Network.With help of CNN we can do Image Classification,Object Detection,Face Detection,Object Classification and many more\n",
    "\n",
    "#### How image recognition is done in Human brain ?\n",
    "\n",
    "Human brain is divided into 4 parts . One of the part is Cerebral cortex.\n",
    "\n",
    "Cerebral Cortex contains\n",
    "1. Visual Cortex -- It is responsible for seeing images and extracting information from image.\n",
    "    \n",
    "Whenever you see a cat through eyes, It reaches to cerebral coretex via neurons . In Cerebral cortex there is Visual cortex which contains multiple layers (v1,v2,v3,v4,v5.v6).\n",
    "\n",
    "v1 -- It is responsible for finding edges of image (Ear Edge of cat)\n",
    "v2 -- Some more information of cat will be gathered in these layer also (Is there any other object along with cat)\n",
    "v4 -- Will extract some information from face\n",
    "Similarly all layers v3,v4,v5,v6 will extract some infomation from images . All these information will pass from one layer to another layer.\n",
    "\n",
    "At final after these extraction of information from image we will be able to recognize the image"
   ]
  },
  {
   "cell_type": "code",
   "execution_count": null,
   "metadata": {},
   "outputs": [],
   "source": []
  }
 ],
 "metadata": {
  "kernelspec": {
   "display_name": "Python 3",
   "language": "python",
   "name": "python3"
  },
  "language_info": {
   "codemirror_mode": {
    "name": "ipython",
    "version": 3
   },
   "file_extension": ".py",
   "mimetype": "text/x-python",
   "name": "python",
   "nbconvert_exporter": "python",
   "pygments_lexer": "ipython3",
   "version": "3.7.9"
  }
 },
 "nbformat": 4,
 "nbformat_minor": 4
}
