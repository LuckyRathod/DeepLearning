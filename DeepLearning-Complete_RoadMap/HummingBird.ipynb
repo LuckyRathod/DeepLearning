{
  "nbformat": 4,
  "nbformat_minor": 0,
  "metadata": {
    "colab": {
      "name": "HummingBird.ipynb",
      "provenance": [],
      "collapsed_sections": []
    },
    "kernelspec": {
      "name": "python3",
      "display_name": "Python 3"
    },
    "accelerator": "GPU"
  },
  "cells": [
    {
      "cell_type": "code",
      "metadata": {
        "colab": {
          "base_uri": "https://localhost:8080/"
        },
        "id": "jYJHboX7g72P",
        "outputId": "64b29d30-ee25-47c7-efe1-63af20a6d6a3"
      },
      "source": [
        "!pip install hummingbird-ml"
      ],
      "execution_count": 13,
      "outputs": [
        {
          "output_type": "stream",
          "text": [
            "Requirement already satisfied: hummingbird-ml in /usr/local/lib/python3.6/dist-packages (0.1.0)\n",
            "Requirement already satisfied: onnxconverter-common<=1.7.0,>=1.6.0 in /usr/local/lib/python3.6/dist-packages (from hummingbird-ml) (1.7.0)\n",
            "Requirement already satisfied: scikit-learn<=0.23.2,>=0.21.3 in /usr/local/lib/python3.6/dist-packages (from hummingbird-ml) (0.22.2.post1)\n",
            "Requirement already satisfied: numpy<=1.19.2,>=1.15 in /usr/local/lib/python3.6/dist-packages (from hummingbird-ml) (1.19.2)\n",
            "Requirement already satisfied: torch<=1.7.0,>=1.4.* in /usr/local/lib/python3.6/dist-packages (from hummingbird-ml) (1.7.0)\n",
            "Requirement already satisfied: psutil in /usr/local/lib/python3.6/dist-packages (from hummingbird-ml) (5.4.8)\n",
            "Requirement already satisfied: onnx in /usr/local/lib/python3.6/dist-packages (from onnxconverter-common<=1.7.0,>=1.6.0->hummingbird-ml) (1.8.0)\n",
            "Requirement already satisfied: protobuf in /usr/local/lib/python3.6/dist-packages (from onnxconverter-common<=1.7.0,>=1.6.0->hummingbird-ml) (3.12.4)\n",
            "Requirement already satisfied: scipy>=0.17.0 in /usr/local/lib/python3.6/dist-packages (from scikit-learn<=0.23.2,>=0.21.3->hummingbird-ml) (1.4.1)\n",
            "Requirement already satisfied: joblib>=0.11 in /usr/local/lib/python3.6/dist-packages (from scikit-learn<=0.23.2,>=0.21.3->hummingbird-ml) (1.0.0)\n",
            "Requirement already satisfied: dataclasses in /usr/local/lib/python3.6/dist-packages (from torch<=1.7.0,>=1.4.*->hummingbird-ml) (0.8)\n",
            "Requirement already satisfied: future in /usr/local/lib/python3.6/dist-packages (from torch<=1.7.0,>=1.4.*->hummingbird-ml) (0.16.0)\n",
            "Requirement already satisfied: typing-extensions in /usr/local/lib/python3.6/dist-packages (from torch<=1.7.0,>=1.4.*->hummingbird-ml) (3.7.4.3)\n",
            "Requirement already satisfied: six in /usr/local/lib/python3.6/dist-packages (from onnx->onnxconverter-common<=1.7.0,>=1.6.0->hummingbird-ml) (1.15.0)\n",
            "Requirement already satisfied: setuptools in /usr/local/lib/python3.6/dist-packages (from protobuf->onnxconverter-common<=1.7.0,>=1.6.0->hummingbird-ml) (51.0.0)\n"
          ],
          "name": "stdout"
        }
      ]
    },
    {
      "cell_type": "code",
      "metadata": {
        "id": "6wPqjfDnhLYm"
      },
      "source": [
        "import numpy as np\r\n",
        "from sklearn.ensemble import RandomForestClassifier\r\n",
        "from hummingbird.ml import convert\r\n",
        "\r\n",
        "# Create some random data for binary classification\r\n",
        "num_classes = 2\r\n",
        "X = np.array(np.random.rand(100000, 28),dtype=np.float32)\r\n",
        "y = np.random.randint(num_classes, size=100000)"
      ],
      "execution_count": 14,
      "outputs": []
    },
    {
      "cell_type": "code",
      "metadata": {
        "colab": {
          "base_uri": "https://localhost:8080/"
        },
        "id": "6nYeGMwwh5hX",
        "outputId": "122d0d16-63f0-4602-97e5-3f503f5a49d2"
      },
      "source": [
        "# Create and train a model (scikit-learn RandomForestClassifier in this case)\r\n",
        "skl_model = RandomForestClassifier(n_estimators=10, max_depth=10)\r\n",
        "skl_model.fit(X, y)"
      ],
      "execution_count": 15,
      "outputs": [
        {
          "output_type": "execute_result",
          "data": {
            "text/plain": [
              "RandomForestClassifier(bootstrap=True, ccp_alpha=0.0, class_weight=None,\n",
              "                       criterion='gini', max_depth=10, max_features='auto',\n",
              "                       max_leaf_nodes=None, max_samples=None,\n",
              "                       min_impurity_decrease=0.0, min_impurity_split=None,\n",
              "                       min_samples_leaf=1, min_samples_split=2,\n",
              "                       min_weight_fraction_leaf=0.0, n_estimators=10,\n",
              "                       n_jobs=None, oob_score=False, random_state=None,\n",
              "                       verbose=0, warm_start=False)"
            ]
          },
          "metadata": {
            "tags": []
          },
          "execution_count": 15
        }
      ]
    },
    {
      "cell_type": "code",
      "metadata": {
        "colab": {
          "base_uri": "https://localhost:8080/"
        },
        "id": "lr3skrYaiIYv",
        "outputId": "c3a77cc6-8871-4186-ef27-58a8814dd69d"
      },
      "source": [
        "# Use Hummingbird to convert the model to PyTorch\r\n",
        "model = convert(skl_model, 'pytorch')"
      ],
      "execution_count": 16,
      "outputs": [
        {
          "output_type": "stream",
          "text": [
            "/usr/local/lib/python3.6/dist-packages/torch/nn/modules/container.py:434: UserWarning: Setting attributes on ParameterList is not supported.\n",
            "  warnings.warn(\"Setting attributes on ParameterList is not supported.\")\n"
          ],
          "name": "stderr"
        }
      ]
    },
    {
      "cell_type": "code",
      "metadata": {
        "colab": {
          "base_uri": "https://localhost:8080/"
        },
        "id": "Heff9IwRiUwl",
        "outputId": "560cae3e-2d70-478a-99c2-73ab21bb2007"
      },
      "source": [
        "%%timeit -r 3\r\n",
        "### By default CPU Execution is used in Hummingbird\r\n",
        "\r\n",
        "model.predict(X)"
      ],
      "execution_count": 17,
      "outputs": [
        {
          "output_type": "stream",
          "text": [
            "10 loops, best of 3: 166 ms per loop\n"
          ],
          "name": "stdout"
        }
      ]
    },
    {
      "cell_type": "code",
      "metadata": {
        "id": "Jf5vnGXei0BO"
      },
      "source": [
        "# Run predictions on GPU\r\n",
        "model.to('cuda')\r\n",
        "model.predict(X)"
      ],
      "execution_count": 21,
      "outputs": []
    }
  ]
}