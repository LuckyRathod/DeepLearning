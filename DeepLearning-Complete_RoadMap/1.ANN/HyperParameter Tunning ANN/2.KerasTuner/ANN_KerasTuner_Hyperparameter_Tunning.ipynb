{
 "cells": [
  {
   "cell_type": "markdown",
   "metadata": {
    "id": "pfaWfnL_XeOw"
   },
   "source": [
    "#### Keras Tuner -- Help us to decide How many number of neurons and hidden layers to be selected in Neural Network\n",
    "\n",
    "https://keras-team.github.io/keras-tuner/"
   ]
  },
  {
   "cell_type": "code",
   "execution_count": 1,
   "metadata": {
    "colab": {
     "base_uri": "https://localhost:8080/"
    },
    "id": "G1csaLpmVE2S",
    "outputId": "c40fbfcc-7406-4295-dcd9-464224b380dd"
   },
   "outputs": [
    {
     "name": "stdout",
     "output_type": "stream",
     "text": [
      "2.4.0\n"
     ]
    }
   ],
   "source": [
    "import tensorflow\n",
    "print(tensorflow.__version__)"
   ]
  },
  {
   "cell_type": "code",
   "execution_count": 2,
   "metadata": {
    "colab": {
     "base_uri": "https://localhost:8080/"
    },
    "id": "GNgZ8fZDY8EP",
    "outputId": "42507d55-532e-41d5-fcc9-ba1122c6425a"
   },
   "outputs": [
    {
     "name": "stdout",
     "output_type": "stream",
     "text": [
      "Collecting keras-tuner\n",
      "\u001b[?25l  Downloading https://files.pythonhosted.org/packages/20/ec/1ef246787174b1e2bb591c95f29d3c1310070cad877824f907faba3dade9/keras-tuner-1.0.2.tar.gz (62kB)\n",
      "\r",
      "\u001b[K     |█████▏                          | 10kB 24.5MB/s eta 0:00:01\r",
      "\u001b[K     |██████████▍                     | 20kB 14.8MB/s eta 0:00:01\r",
      "\u001b[K     |███████████████▋                | 30kB 13.1MB/s eta 0:00:01\r",
      "\u001b[K     |████████████████████▉           | 40kB 12.6MB/s eta 0:00:01\r",
      "\u001b[K     |██████████████████████████      | 51kB 8.4MB/s eta 0:00:01\r",
      "\u001b[K     |███████████████████████████████▎| 61kB 9.2MB/s eta 0:00:01\r",
      "\u001b[K     |████████████████████████████████| 71kB 5.9MB/s \n",
      "\u001b[?25hRequirement already satisfied: packaging in /usr/local/lib/python3.6/dist-packages (from keras-tuner) (20.8)\n",
      "Requirement already satisfied: future in /usr/local/lib/python3.6/dist-packages (from keras-tuner) (0.16.0)\n",
      "Requirement already satisfied: numpy in /usr/local/lib/python3.6/dist-packages (from keras-tuner) (1.19.4)\n",
      "Requirement already satisfied: tabulate in /usr/local/lib/python3.6/dist-packages (from keras-tuner) (0.8.7)\n",
      "Collecting terminaltables\n",
      "  Downloading https://files.pythonhosted.org/packages/9b/c4/4a21174f32f8a7e1104798c445dacdc1d4df86f2f26722767034e4de4bff/terminaltables-3.1.0.tar.gz\n",
      "Collecting colorama\n",
      "  Downloading https://files.pythonhosted.org/packages/44/98/5b86278fbbf250d239ae0ecb724f8572af1c91f4a11edf4d36a206189440/colorama-0.4.4-py2.py3-none-any.whl\n",
      "Requirement already satisfied: tqdm in /usr/local/lib/python3.6/dist-packages (from keras-tuner) (4.41.1)\n",
      "Requirement already satisfied: requests in /usr/local/lib/python3.6/dist-packages (from keras-tuner) (2.23.0)\n",
      "Requirement already satisfied: scipy in /usr/local/lib/python3.6/dist-packages (from keras-tuner) (1.4.1)\n",
      "Requirement already satisfied: scikit-learn in /usr/local/lib/python3.6/dist-packages (from keras-tuner) (0.22.2.post1)\n",
      "Requirement already satisfied: pyparsing>=2.0.2 in /usr/local/lib/python3.6/dist-packages (from packaging->keras-tuner) (2.4.7)\n",
      "Requirement already satisfied: chardet<4,>=3.0.2 in /usr/local/lib/python3.6/dist-packages (from requests->keras-tuner) (3.0.4)\n",
      "Requirement already satisfied: urllib3!=1.25.0,!=1.25.1,<1.26,>=1.21.1 in /usr/local/lib/python3.6/dist-packages (from requests->keras-tuner) (1.24.3)\n",
      "Requirement already satisfied: idna<3,>=2.5 in /usr/local/lib/python3.6/dist-packages (from requests->keras-tuner) (2.10)\n",
      "Requirement already satisfied: certifi>=2017.4.17 in /usr/local/lib/python3.6/dist-packages (from requests->keras-tuner) (2020.12.5)\n",
      "Requirement already satisfied: joblib>=0.11 in /usr/local/lib/python3.6/dist-packages (from scikit-learn->keras-tuner) (1.0.0)\n",
      "Building wheels for collected packages: keras-tuner, terminaltables\n",
      "  Building wheel for keras-tuner (setup.py) ... \u001b[?25l\u001b[?25hdone\n",
      "  Created wheel for keras-tuner: filename=keras_tuner-1.0.2-cp36-none-any.whl size=78939 sha256=1548705d97c446d4454d25bd773bc4157cd225602f7d33b8f57de8c8e0967b46\n",
      "  Stored in directory: /root/.cache/pip/wheels/bb/a1/8a/7c3de0efb3707a1701b36ebbfdbc4e67aedf6d4943a1f463d6\n",
      "  Building wheel for terminaltables (setup.py) ... \u001b[?25l\u001b[?25hdone\n",
      "  Created wheel for terminaltables: filename=terminaltables-3.1.0-cp36-none-any.whl size=15358 sha256=1f47393ccd9b123b27a42832c1fd8122343146474bbf8e4529e3a0c7c9798e75\n",
      "  Stored in directory: /root/.cache/pip/wheels/30/6b/50/6c75775b681fb36cdfac7f19799888ef9d8813aff9e379663e\n",
      "Successfully built keras-tuner terminaltables\n",
      "Installing collected packages: terminaltables, colorama, keras-tuner\n",
      "Successfully installed colorama-0.4.4 keras-tuner-1.0.2 terminaltables-3.1.0\n"
     ]
    }
   ],
   "source": [
    "!pip install keras-tuner"
   ]
  },
  {
   "cell_type": "code",
   "execution_count": 41,
   "metadata": {
    "id": "iYmsqzOuZFxg"
   },
   "outputs": [],
   "source": [
    "## Import Libraries\n",
    "\n",
    "import pandas as pd\n",
    "from tensorflow import keras\n",
    "from tensorflow.keras import layers\n",
    "from kerastuner.tuners import RandomSearch"
   ]
  },
  {
   "cell_type": "markdown",
   "metadata": {
    "id": "uxsQ09RbZ--H"
   },
   "source": [
    "Dataset is all about Air Quality Index Prediction -- Regression Problem\n",
    "\n",
    "Dependent Feature -- PM2.5 , All other features are Independent Features"
   ]
  },
  {
   "cell_type": "code",
   "execution_count": 42,
   "metadata": {
    "colab": {
     "base_uri": "https://localhost:8080/",
     "height": 195
    },
    "id": "pnNviZVfZ6yJ",
    "outputId": "639aa7d6-3025-4eca-c8f1-d792c020603f"
   },
   "outputs": [
    {
     "data": {
      "text/html": [
       "<div>\n",
       "<style scoped>\n",
       "    .dataframe tbody tr th:only-of-type {\n",
       "        vertical-align: middle;\n",
       "    }\n",
       "\n",
       "    .dataframe tbody tr th {\n",
       "        vertical-align: top;\n",
       "    }\n",
       "\n",
       "    .dataframe thead th {\n",
       "        text-align: right;\n",
       "    }\n",
       "</style>\n",
       "<table border=\"1\" class=\"dataframe\">\n",
       "  <thead>\n",
       "    <tr style=\"text-align: right;\">\n",
       "      <th></th>\n",
       "      <th>T</th>\n",
       "      <th>TM</th>\n",
       "      <th>Tm</th>\n",
       "      <th>SLP</th>\n",
       "      <th>H</th>\n",
       "      <th>VV</th>\n",
       "      <th>V</th>\n",
       "      <th>VM</th>\n",
       "      <th>PM 2.5</th>\n",
       "    </tr>\n",
       "  </thead>\n",
       "  <tbody>\n",
       "    <tr>\n",
       "      <th>0</th>\n",
       "      <td>7.4</td>\n",
       "      <td>9.8</td>\n",
       "      <td>4.8</td>\n",
       "      <td>1017.6</td>\n",
       "      <td>93.0</td>\n",
       "      <td>0.5</td>\n",
       "      <td>4.3</td>\n",
       "      <td>9.4</td>\n",
       "      <td>219.720833</td>\n",
       "    </tr>\n",
       "    <tr>\n",
       "      <th>1</th>\n",
       "      <td>7.8</td>\n",
       "      <td>12.7</td>\n",
       "      <td>4.4</td>\n",
       "      <td>1018.5</td>\n",
       "      <td>87.0</td>\n",
       "      <td>0.6</td>\n",
       "      <td>4.4</td>\n",
       "      <td>11.1</td>\n",
       "      <td>182.187500</td>\n",
       "    </tr>\n",
       "    <tr>\n",
       "      <th>2</th>\n",
       "      <td>6.7</td>\n",
       "      <td>13.4</td>\n",
       "      <td>2.4</td>\n",
       "      <td>1019.4</td>\n",
       "      <td>82.0</td>\n",
       "      <td>0.6</td>\n",
       "      <td>4.8</td>\n",
       "      <td>11.1</td>\n",
       "      <td>154.037500</td>\n",
       "    </tr>\n",
       "    <tr>\n",
       "      <th>3</th>\n",
       "      <td>8.6</td>\n",
       "      <td>15.5</td>\n",
       "      <td>3.3</td>\n",
       "      <td>1018.7</td>\n",
       "      <td>72.0</td>\n",
       "      <td>0.8</td>\n",
       "      <td>8.1</td>\n",
       "      <td>20.6</td>\n",
       "      <td>223.208333</td>\n",
       "    </tr>\n",
       "    <tr>\n",
       "      <th>4</th>\n",
       "      <td>12.4</td>\n",
       "      <td>20.9</td>\n",
       "      <td>4.4</td>\n",
       "      <td>1017.3</td>\n",
       "      <td>61.0</td>\n",
       "      <td>1.3</td>\n",
       "      <td>8.7</td>\n",
       "      <td>22.2</td>\n",
       "      <td>200.645833</td>\n",
       "    </tr>\n",
       "  </tbody>\n",
       "</table>\n",
       "</div>"
      ],
      "text/plain": [
       "      T    TM   Tm     SLP     H   VV    V    VM      PM 2.5\n",
       "0   7.4   9.8  4.8  1017.6  93.0  0.5  4.3   9.4  219.720833\n",
       "1   7.8  12.7  4.4  1018.5  87.0  0.6  4.4  11.1  182.187500\n",
       "2   6.7  13.4  2.4  1019.4  82.0  0.6  4.8  11.1  154.037500\n",
       "3   8.6  15.5  3.3  1018.7  72.0  0.8  8.1  20.6  223.208333\n",
       "4  12.4  20.9  4.4  1017.3  61.0  1.3  8.7  22.2  200.645833"
      ]
     },
     "execution_count": 42,
     "metadata": {
      "tags": []
     },
     "output_type": "execute_result"
    }
   ],
   "source": [
    "df = pd.read_csv('Real_Combine.csv')\n",
    "df.head()"
   ]
  },
  {
   "cell_type": "code",
   "execution_count": 43,
   "metadata": {
    "colab": {
     "base_uri": "https://localhost:8080/"
    },
    "id": "6hNP62NjXdLB",
    "outputId": "316a2877-a5e9-415a-f995-7f898128a0a4"
   },
   "outputs": [
    {
     "data": {
      "text/plain": [
       "T         0\n",
       "TM        0\n",
       "Tm        0\n",
       "SLP       0\n",
       "H         0\n",
       "VV        0\n",
       "V         0\n",
       "VM        0\n",
       "PM 2.5    1\n",
       "dtype: int64"
      ]
     },
     "execution_count": 43,
     "metadata": {
      "tags": []
     },
     "output_type": "execute_result"
    }
   ],
   "source": [
    "df.isnull().sum()"
   ]
  },
  {
   "cell_type": "code",
   "execution_count": 44,
   "metadata": {
    "colab": {
     "base_uri": "https://localhost:8080/"
    },
    "id": "vQ25YIxrXlZf",
    "outputId": "284639ec-f84a-47e9-c60c-6de6ec96f4d0"
   },
   "outputs": [
    {
     "data": {
      "text/plain": [
       "T         0\n",
       "TM        0\n",
       "Tm        0\n",
       "SLP       0\n",
       "H         0\n",
       "VV        0\n",
       "V         0\n",
       "VM        0\n",
       "PM 2.5    0\n",
       "dtype: int64"
      ]
     },
     "execution_count": 44,
     "metadata": {
      "tags": []
     },
     "output_type": "execute_result"
    }
   ],
   "source": [
    "df = df.dropna()\n",
    "df.isnull().sum()"
   ]
  },
  {
   "cell_type": "code",
   "execution_count": 45,
   "metadata": {
    "colab": {
     "base_uri": "https://localhost:8080/",
     "height": 195
    },
    "id": "fUehntIxajyp",
    "outputId": "9a10756e-161f-4a17-9b1f-28b153f4a500"
   },
   "outputs": [
    {
     "data": {
      "text/html": [
       "<div>\n",
       "<style scoped>\n",
       "    .dataframe tbody tr th:only-of-type {\n",
       "        vertical-align: middle;\n",
       "    }\n",
       "\n",
       "    .dataframe tbody tr th {\n",
       "        vertical-align: top;\n",
       "    }\n",
       "\n",
       "    .dataframe thead th {\n",
       "        text-align: right;\n",
       "    }\n",
       "</style>\n",
       "<table border=\"1\" class=\"dataframe\">\n",
       "  <thead>\n",
       "    <tr style=\"text-align: right;\">\n",
       "      <th></th>\n",
       "      <th>T</th>\n",
       "      <th>TM</th>\n",
       "      <th>Tm</th>\n",
       "      <th>SLP</th>\n",
       "      <th>H</th>\n",
       "      <th>VV</th>\n",
       "      <th>V</th>\n",
       "      <th>VM</th>\n",
       "    </tr>\n",
       "  </thead>\n",
       "  <tbody>\n",
       "    <tr>\n",
       "      <th>0</th>\n",
       "      <td>7.4</td>\n",
       "      <td>9.8</td>\n",
       "      <td>4.8</td>\n",
       "      <td>1017.6</td>\n",
       "      <td>93.0</td>\n",
       "      <td>0.5</td>\n",
       "      <td>4.3</td>\n",
       "      <td>9.4</td>\n",
       "    </tr>\n",
       "    <tr>\n",
       "      <th>1</th>\n",
       "      <td>7.8</td>\n",
       "      <td>12.7</td>\n",
       "      <td>4.4</td>\n",
       "      <td>1018.5</td>\n",
       "      <td>87.0</td>\n",
       "      <td>0.6</td>\n",
       "      <td>4.4</td>\n",
       "      <td>11.1</td>\n",
       "    </tr>\n",
       "    <tr>\n",
       "      <th>2</th>\n",
       "      <td>6.7</td>\n",
       "      <td>13.4</td>\n",
       "      <td>2.4</td>\n",
       "      <td>1019.4</td>\n",
       "      <td>82.0</td>\n",
       "      <td>0.6</td>\n",
       "      <td>4.8</td>\n",
       "      <td>11.1</td>\n",
       "    </tr>\n",
       "    <tr>\n",
       "      <th>3</th>\n",
       "      <td>8.6</td>\n",
       "      <td>15.5</td>\n",
       "      <td>3.3</td>\n",
       "      <td>1018.7</td>\n",
       "      <td>72.0</td>\n",
       "      <td>0.8</td>\n",
       "      <td>8.1</td>\n",
       "      <td>20.6</td>\n",
       "    </tr>\n",
       "    <tr>\n",
       "      <th>4</th>\n",
       "      <td>12.4</td>\n",
       "      <td>20.9</td>\n",
       "      <td>4.4</td>\n",
       "      <td>1017.3</td>\n",
       "      <td>61.0</td>\n",
       "      <td>1.3</td>\n",
       "      <td>8.7</td>\n",
       "      <td>22.2</td>\n",
       "    </tr>\n",
       "  </tbody>\n",
       "</table>\n",
       "</div>"
      ],
      "text/plain": [
       "      T    TM   Tm     SLP     H   VV    V    VM\n",
       "0   7.4   9.8  4.8  1017.6  93.0  0.5  4.3   9.4\n",
       "1   7.8  12.7  4.4  1018.5  87.0  0.6  4.4  11.1\n",
       "2   6.7  13.4  2.4  1019.4  82.0  0.6  4.8  11.1\n",
       "3   8.6  15.5  3.3  1018.7  72.0  0.8  8.1  20.6\n",
       "4  12.4  20.9  4.4  1017.3  61.0  1.3  8.7  22.2"
      ]
     },
     "execution_count": 45,
     "metadata": {
      "tags": []
     },
     "output_type": "execute_result"
    }
   ],
   "source": [
    "### Divide dataset into Independent and Dependent Features\n",
    "\n",
    "X = df.iloc[:,:-1]\n",
    "y = df.iloc[:,-1]\n",
    "\n",
    "X.head()"
   ]
  },
  {
   "cell_type": "code",
   "execution_count": 46,
   "metadata": {
    "colab": {
     "base_uri": "https://localhost:8080/"
    },
    "id": "yDxMqmJSbx-k",
    "outputId": "944399c4-1b81-4c38-b093-d948c91fb7c5"
   },
   "outputs": [
    {
     "data": {
      "text/plain": [
       "0    219.720833\n",
       "1    182.187500\n",
       "2    154.037500\n",
       "3    223.208333\n",
       "4    200.645833\n",
       "Name: PM 2.5, dtype: float64"
      ]
     },
     "execution_count": 46,
     "metadata": {
      "tags": []
     },
     "output_type": "execute_result"
    }
   ],
   "source": [
    "y.head()"
   ]
  },
  {
   "cell_type": "code",
   "execution_count": 47,
   "metadata": {
    "colab": {
     "base_uri": "https://localhost:8080/"
    },
    "id": "7EhP-YkpWVeg",
    "outputId": "89ff9f42-a55c-420f-baad-8ca738eee045"
   },
   "outputs": [
    {
     "data": {
      "text/plain": [
       "array([[-0.57274033, -0.35937433, -0.95753592, ..., -1.21178613,\n",
       "        -0.08174649,  0.11286325],\n",
       "       [-1.69123558, -1.79437055, -1.59036078, ..., -1.21178613,\n",
       "         0.97864768,  3.51530141],\n",
       "       [ 0.96001243,  1.22510067,  0.9005456 , ..., -0.10125437,\n",
       "         0.16295985, -0.64635849],\n",
       "       ...,\n",
       "       [ 1.13952401,  0.71687284,  1.30447636, ...,  0.87046093,\n",
       "         1.3321124 ,  0.91426397],\n",
       "       [-1.87074717, -2.00364084, -1.40185976, ..., -2.04468496,\n",
       "        -0.54396959, -0.88537274],\n",
       "       [ 0.67003218,  0.35812379,  0.84668816, ...,  0.87046093,\n",
       "        -0.89743432, -0.64635849]])"
      ]
     },
     "execution_count": 47,
     "metadata": {
      "tags": []
     },
     "output_type": "execute_result"
    }
   ],
   "source": [
    "from sklearn.preprocessing import StandardScaler\n",
    "sc = StandardScaler()\n",
    "X_train = sc.fit_transform(X_train)\n",
    "X_test = sc.fit_transform(X_test)\n",
    "\n",
    "X_train"
   ]
  },
  {
   "cell_type": "code",
   "execution_count": 48,
   "metadata": {
    "colab": {
     "base_uri": "https://localhost:8080/"
    },
    "id": "eIXM0CoBWqre",
    "outputId": "65bde254-bec9-4009-8506-9dd0a66931fd"
   },
   "outputs": [
    {
     "data": {
      "text/plain": [
       "array([[ 0.72398496,  0.80357143,  0.45590992, ...,  1.28011238,\n",
       "         2.78044217,  2.47658459],\n",
       "       [-2.01142681, -2.55488973, -1.65348247, ..., -1.58806932,\n",
       "        -0.24056669, -0.64125358],\n",
       "       [-1.45601325, -1.54584534, -1.53256189, ...,  0.40718751,\n",
       "         0.02317218,  0.05734916],\n",
       "       ...,\n",
       "       [ 1.07111843,  1.1499598 ,  1.20830466, ..., -0.21633025,\n",
       "         0.91029383,  0.05734916],\n",
       "       [ 0.77952631,  0.59272634,  0.96646349, ...,  0.28248396,\n",
       "         3.25996739,  1.51924009],\n",
       "       [-1.650408  , -1.75669044, -1.50569065, ..., -0.96455156,\n",
       "        -0.86394947, -1.09405165]])"
      ]
     },
     "execution_count": 48,
     "metadata": {
      "tags": []
     },
     "output_type": "execute_result"
    }
   ],
   "source": [
    "X_test"
   ]
  },
  {
   "cell_type": "markdown",
   "metadata": {
    "id": "f7uYuSoEeW_e"
   },
   "source": [
    "### Hyper Parameters in Neural Network\n",
    "\n",
    "1. How many no of Hidden layers we should have\n",
    "2. How many no of neurons we should have in hidden layers\n",
    "3. Learning Rate"
   ]
  },
  {
   "cell_type": "code",
   "execution_count": 79,
   "metadata": {
    "id": "vv_qHTWPb0EA"
   },
   "outputs": [],
   "source": [
    "def build_model(hp):\n",
    "\n",
    "    ## hp.Int --- Try with different different values\n",
    "    ## hp.Choice -- Choose any one\n",
    "    model = keras.Sequential()\n",
    "    ## We will do tunning of Layers between 2 to 20 -- Hidden Layers\n",
    "    for i in range(hp.Int('num_layers', 2, 20)):\n",
    "      ## No of neurons in each hidden layer will be ranging between 32 to 512\n",
    "      model.add(layers.Dense(units=hp.Int('units_' + str(i),\n",
    "                                            min_value=32,\n",
    "                                            max_value=512,\n",
    "                                            step=32),\n",
    "                               activation='relu'))\n",
    "    ## Output layer\n",
    "    model.add(layers.Dense(1, activation='linear')) ##Linear activation function is used in Regression problem\n",
    "    model.compile(\n",
    "        optimizer=keras.optimizers.Adam(\n",
    "            hp.Choice('learning_rate', [1e-2, 1e-3, 1e-4])),\n",
    "        loss='mean_absolute_error', ## For Regrerssion problem statement\n",
    "        metrics=['mean_absolute_error']) ## For Regression problem\n",
    "    return model"
   ]
  },
  {
   "cell_type": "code",
   "execution_count": 80,
   "metadata": {
    "id": "QA8A4G6DfDdi"
   },
   "outputs": [],
   "source": [
    "### Hyper parameter optimization using RandomSearch\n",
    "\n",
    "tuner = RandomSearch(\n",
    "    build_model,\n",
    "    ### When we do training we get val_mean_absolute_error\n",
    "    ### Incase of Classification problem write val_accuracy\n",
    "    objective='val_mean_absolute_error',\n",
    "\n",
    "    ### Above function will be called 5*3=15 times \n",
    "    ### single round of training for each model configuration,if we set execution_per_trail=1\n",
    "    max_trials=5,\n",
    "    executions_per_trial=1,\n",
    "\n",
    "    ### Weights will get stored in these directory\n",
    "    directory='project6',\n",
    "    project_name='Air Quality Index')"
   ]
  },
  {
   "cell_type": "code",
   "execution_count": 81,
   "metadata": {
    "colab": {
     "base_uri": "https://localhost:8080/"
    },
    "id": "q1mCid-FOXSF",
    "outputId": "59781e98-b856-4730-ae66-8071b346841f"
   },
   "outputs": [
    {
     "name": "stdout",
     "output_type": "stream",
     "text": [
      "Search space summary\n",
      "Default search space size: 4\n",
      "num_layers (Int)\n",
      "{'default': None, 'conditions': [], 'min_value': 2, 'max_value': 20, 'step': 1, 'sampling': None}\n",
      "units_0 (Int)\n",
      "{'default': None, 'conditions': [], 'min_value': 32, 'max_value': 512, 'step': 32, 'sampling': None}\n",
      "units_1 (Int)\n",
      "{'default': None, 'conditions': [], 'min_value': 32, 'max_value': 512, 'step': 32, 'sampling': None}\n",
      "learning_rate (Choice)\n",
      "{'default': 0.01, 'conditions': [], 'values': [0.01, 0.001, 0.0001], 'ordered': True}\n"
     ]
    }
   ],
   "source": [
    "tuner.search_space_summary()\n",
    "\n",
    "### All information will get stored in Air Quality Index "
   ]
  },
  {
   "cell_type": "code",
   "execution_count": 82,
   "metadata": {
    "colab": {
     "base_uri": "https://localhost:8080/"
    },
    "id": "_GibGeT7REg8",
    "outputId": "014693f3-a37d-47a0-86bc-269c36debc83"
   },
   "outputs": [
    {
     "data": {
      "text/plain": [
       "((764, 8), (328, 8), (764,), (328,))"
      ]
     },
     "execution_count": 82,
     "metadata": {
      "tags": []
     },
     "output_type": "execute_result"
    }
   ],
   "source": [
    "### Train Test split\n",
    "from sklearn.model_selection import train_test_split\n",
    "X_train,X_test,y_train,y_test = train_test_split(X,y,test_size=0.3,random_state=0)\n",
    "\n",
    "X_train.shape,X_test.shape,y_train.shape,y_test.shape"
   ]
  },
  {
   "cell_type": "code",
   "execution_count": 83,
   "metadata": {
    "colab": {
     "base_uri": "https://localhost:8080/"
    },
    "id": "xTO570sYRyM9",
    "outputId": "84743bfb-030b-4345-c767-0c00390fd4fd"
   },
   "outputs": [
    {
     "name": "stdout",
     "output_type": "stream",
     "text": [
      "Trial 5 Complete [00h 00m 06s]\n",
      "val_mean_absolute_error: 50.91386413574219\n",
      "\n",
      "Best val_mean_absolute_error So Far: 42.80025863647461\n",
      "Total elapsed time: 00h 00m 37s\n",
      "INFO:tensorflow:Oracle triggered exit\n"
     ]
    }
   ],
   "source": [
    "### 5 trials will be done as per the epocs \n",
    "\n",
    "tuner.search(X_train, y_train,\n",
    "             epochs=50,\n",
    "             validation_data=(X_test, y_test))"
   ]
  },
  {
   "cell_type": "code",
   "execution_count": 84,
   "metadata": {
    "colab": {
     "base_uri": "https://localhost:8080/"
    },
    "id": "w60RTkWGR8G6",
    "outputId": "5fe9709a-a153-408b-81f7-b1c1310a1b3d"
   },
   "outputs": [
    {
     "name": "stdout",
     "output_type": "stream",
     "text": [
      "Results summary\n",
      "Results in project6/Air Quality Index\n",
      "Showing 10 best trials\n",
      "Objective(name='val_mean_absolute_error', direction='min')\n",
      "Trial summary\n",
      "Hyperparameters:\n",
      "num_layers: 5\n",
      "units_0: 192\n",
      "units_1: 288\n",
      "learning_rate: 0.01\n",
      "units_2: 256\n",
      "units_3: 192\n",
      "units_4: 224\n",
      "units_5: 96\n",
      "units_6: 256\n",
      "units_7: 320\n",
      "units_8: 288\n",
      "units_9: 256\n",
      "Score: 42.80025863647461\n",
      "Trial summary\n",
      "Hyperparameters:\n",
      "num_layers: 10\n",
      "units_0: 160\n",
      "units_1: 64\n",
      "learning_rate: 0.01\n",
      "units_2: 32\n",
      "units_3: 32\n",
      "units_4: 32\n",
      "units_5: 32\n",
      "units_6: 32\n",
      "units_7: 32\n",
      "units_8: 32\n",
      "units_9: 32\n",
      "Score: 43.0254020690918\n",
      "Trial summary\n",
      "Hyperparameters:\n",
      "num_layers: 7\n",
      "units_0: 160\n",
      "units_1: 64\n",
      "learning_rate: 0.01\n",
      "units_2: 320\n",
      "units_3: 192\n",
      "units_4: 224\n",
      "units_5: 448\n",
      "units_6: 320\n",
      "units_7: 416\n",
      "units_8: 160\n",
      "units_9: 160\n",
      "Score: 43.49293899536133\n",
      "Trial summary\n",
      "Hyperparameters:\n",
      "num_layers: 15\n",
      "units_0: 320\n",
      "units_1: 384\n",
      "learning_rate: 0.0001\n",
      "units_2: 96\n",
      "units_3: 256\n",
      "units_4: 288\n",
      "units_5: 128\n",
      "units_6: 192\n",
      "units_7: 128\n",
      "units_8: 320\n",
      "units_9: 192\n",
      "units_10: 32\n",
      "units_11: 32\n",
      "units_12: 32\n",
      "units_13: 32\n",
      "units_14: 32\n",
      "Score: 46.32959747314453\n",
      "Trial summary\n",
      "Hyperparameters:\n",
      "num_layers: 2\n",
      "units_0: 288\n",
      "units_1: 288\n",
      "learning_rate: 0.0001\n",
      "units_2: 192\n",
      "units_3: 96\n",
      "units_4: 64\n",
      "units_5: 160\n",
      "units_6: 384\n",
      "units_7: 448\n",
      "units_8: 192\n",
      "units_9: 64\n",
      "units_10: 128\n",
      "units_11: 160\n",
      "units_12: 192\n",
      "units_13: 256\n",
      "units_14: 352\n",
      "Score: 50.91386413574219\n"
     ]
    }
   ],
   "source": [
    "tuner.results_summary()"
   ]
  },
  {
   "cell_type": "code",
   "execution_count": 85,
   "metadata": {
    "colab": {
     "base_uri": "https://localhost:8080/"
    },
    "id": "dNSA1SwgS25h",
    "outputId": "da049622-bbae-4cc4-b15a-dbb73516883b"
   },
   "outputs": [
    {
     "data": {
      "text/plain": [
       "<tensorflow.python.keras.engine.sequential.Sequential at 0x7feda37b24a8>"
      ]
     },
     "execution_count": 85,
     "metadata": {
      "tags": []
     },
     "output_type": "execute_result"
    }
   ],
   "source": [
    "tuner.get_best_models(num_models=1)[0]"
   ]
  },
  {
   "cell_type": "code",
   "execution_count": 95,
   "metadata": {
    "id": "oP_H36x4TyrH"
   },
   "outputs": [],
   "source": [
    "model = tuner.get_best_models(num_models=1)[0]"
   ]
  },
  {
   "cell_type": "code",
   "execution_count": 96,
   "metadata": {
    "colab": {
     "base_uri": "https://localhost:8080/"
    },
    "id": "U9vz4zTic1Il",
    "outputId": "2da58ce6-b4a7-475c-f1f9-3824bdeede3f"
   },
   "outputs": [
    {
     "name": "stdout",
     "output_type": "stream",
     "text": [
      "  adding: project6/ (stored 0%)\n",
      "  adding: project6/Air Quality Index/ (stored 0%)\n",
      "  adding: project6/Air Quality Index/oracle.json (deflated 85%)\n",
      "  adding: project6/Air Quality Index/.ipynb_checkpoints/ (stored 0%)\n",
      "  adding: project6/Air Quality Index/trial_bdb3d0b7835382816c8ef1a293832ee2/ (stored 0%)\n",
      "  adding: project6/Air Quality Index/trial_bdb3d0b7835382816c8ef1a293832ee2/checkpoints/ (stored 0%)\n",
      "  adding: project6/Air Quality Index/trial_bdb3d0b7835382816c8ef1a293832ee2/checkpoints/epoch_0/ (stored 0%)\n",
      "  adding: project6/Air Quality Index/trial_bdb3d0b7835382816c8ef1a293832ee2/checkpoints/epoch_0/checkpoint.index (deflated 63%)\n",
      "  adding: project6/Air Quality Index/trial_bdb3d0b7835382816c8ef1a293832ee2/checkpoints/epoch_0/checkpoint.data-00000-of-00001 (deflated 52%)\n",
      "  adding: project6/Air Quality Index/trial_bdb3d0b7835382816c8ef1a293832ee2/checkpoints/epoch_0/checkpoint (deflated 48%)\n",
      "  adding: project6/Air Quality Index/trial_bdb3d0b7835382816c8ef1a293832ee2/trial.json (deflated 85%)\n",
      "  adding: project6/Air Quality Index/trial_003cdf493a43f387ae3f3e277c842c59/ (stored 0%)\n",
      "  adding: project6/Air Quality Index/trial_003cdf493a43f387ae3f3e277c842c59/checkpoints/ (stored 0%)\n",
      "  adding: project6/Air Quality Index/trial_003cdf493a43f387ae3f3e277c842c59/checkpoints/epoch_0/ (stored 0%)\n",
      "  adding: project6/Air Quality Index/trial_003cdf493a43f387ae3f3e277c842c59/checkpoints/epoch_0/checkpoint.index (deflated 74%)\n",
      "  adding: project6/Air Quality Index/trial_003cdf493a43f387ae3f3e277c842c59/checkpoints/epoch_0/checkpoint.data-00000-of-00001 (deflated 43%)\n",
      "  adding: project6/Air Quality Index/trial_003cdf493a43f387ae3f3e277c842c59/checkpoints/epoch_0/checkpoint (deflated 48%)\n",
      "  adding: project6/Air Quality Index/trial_003cdf493a43f387ae3f3e277c842c59/trial.json (deflated 85%)\n",
      "  adding: project6/Air Quality Index/trial_7713f0bba70258b69e37ecadce1fea28/ (stored 0%)\n",
      "  adding: project6/Air Quality Index/trial_7713f0bba70258b69e37ecadce1fea28/checkpoints/ (stored 0%)\n",
      "  adding: project6/Air Quality Index/trial_7713f0bba70258b69e37ecadce1fea28/checkpoints/epoch_0/ (stored 0%)\n",
      "  adding: project6/Air Quality Index/trial_7713f0bba70258b69e37ecadce1fea28/checkpoints/epoch_0/checkpoint.index (deflated 74%)\n",
      "  adding: project6/Air Quality Index/trial_7713f0bba70258b69e37ecadce1fea28/checkpoints/epoch_0/checkpoint.data-00000-of-00001 (deflated 50%)\n",
      "  adding: project6/Air Quality Index/trial_7713f0bba70258b69e37ecadce1fea28/checkpoints/epoch_0/checkpoint (deflated 48%)\n",
      "  adding: project6/Air Quality Index/trial_7713f0bba70258b69e37ecadce1fea28/trial.json (deflated 82%)\n",
      "  adding: project6/Air Quality Index/trial_46ffc1c54cdd129ecfe04cd4e0eb8c1e/ (stored 0%)\n",
      "  adding: project6/Air Quality Index/trial_46ffc1c54cdd129ecfe04cd4e0eb8c1e/checkpoints/ (stored 0%)\n",
      "  adding: project6/Air Quality Index/trial_46ffc1c54cdd129ecfe04cd4e0eb8c1e/checkpoints/epoch_0/ (stored 0%)\n",
      "  adding: project6/Air Quality Index/trial_46ffc1c54cdd129ecfe04cd4e0eb8c1e/checkpoints/epoch_0/checkpoint.index (deflated 68%)\n",
      "  adding: project6/Air Quality Index/trial_46ffc1c54cdd129ecfe04cd4e0eb8c1e/checkpoints/epoch_0/checkpoint.data-00000-of-00001 (deflated 50%)\n",
      "  adding: project6/Air Quality Index/trial_46ffc1c54cdd129ecfe04cd4e0eb8c1e/checkpoints/epoch_0/checkpoint (deflated 48%)\n",
      "  adding: project6/Air Quality Index/trial_46ffc1c54cdd129ecfe04cd4e0eb8c1e/trial.json (deflated 82%)\n",
      "  adding: project6/Air Quality Index/trial_a7e3bcd7689becb5cf0c962f92e4ce6b/ (stored 0%)\n",
      "  adding: project6/Air Quality Index/trial_a7e3bcd7689becb5cf0c962f92e4ce6b/checkpoints/ (stored 0%)\n",
      "  adding: project6/Air Quality Index/trial_a7e3bcd7689becb5cf0c962f92e4ce6b/checkpoints/epoch_0/ (stored 0%)\n",
      "  adding: project6/Air Quality Index/trial_a7e3bcd7689becb5cf0c962f92e4ce6b/checkpoints/epoch_0/checkpoint.index (deflated 69%)\n",
      "  adding: project6/Air Quality Index/trial_a7e3bcd7689becb5cf0c962f92e4ce6b/checkpoints/epoch_0/checkpoint.data-00000-of-00001 (deflated 47%)\n",
      "  adding: project6/Air Quality Index/trial_a7e3bcd7689becb5cf0c962f92e4ce6b/checkpoints/epoch_0/checkpoint (deflated 48%)\n",
      "  adding: project6/Air Quality Index/trial_a7e3bcd7689becb5cf0c962f92e4ce6b/trial.json (deflated 82%)\n",
      "  adding: project6/Air Quality Index/tuner0.json (stored 0%)\n"
     ]
    }
   ],
   "source": [
    "!zip -r ./project6.zip ./project6/"
   ]
  },
  {
   "cell_type": "code",
   "execution_count": null,
   "metadata": {
    "id": "0dLSxrG3d1gF"
   },
   "outputs": [],
   "source": []
  },
  {
   "cell_type": "code",
   "execution_count": null,
   "metadata": {
    "id": "qG5-eh18dEiR"
   },
   "outputs": [],
   "source": []
  }
 ],
 "metadata": {
  "accelerator": "GPU",
  "colab": {
   "collapsed_sections": [],
   "name": "ANN_KerasTuner_Hyperparameter_Tunning.ipynb",
   "provenance": []
  },
  "kernelspec": {
   "display_name": "Python 3",
   "language": "python",
   "name": "python3"
  },
  "language_info": {
   "codemirror_mode": {
    "name": "ipython",
    "version": 3
   },
   "file_extension": ".py",
   "mimetype": "text/x-python",
   "name": "python",
   "nbconvert_exporter": "python",
   "pygments_lexer": "ipython3",
   "version": "3.7.9"
  }
 },
 "nbformat": 4,
 "nbformat_minor": 1
}
