{
 "cells": [
  {
   "cell_type": "markdown",
   "metadata": {},
   "source": [
    "### Artificial Neural Network --- Churn Modelling \n",
    "\n",
    "We have to create a neural network model which will predict whether the cutomer in bank will take an exit or not in future"
   ]
  },
  {
   "cell_type": "code",
   "execution_count": 1,
   "metadata": {},
   "outputs": [
    {
     "data": {
      "text/html": [
       "<div>\n",
       "<style scoped>\n",
       "    .dataframe tbody tr th:only-of-type {\n",
       "        vertical-align: middle;\n",
       "    }\n",
       "\n",
       "    .dataframe tbody tr th {\n",
       "        vertical-align: top;\n",
       "    }\n",
       "\n",
       "    .dataframe thead th {\n",
       "        text-align: right;\n",
       "    }\n",
       "</style>\n",
       "<table border=\"1\" class=\"dataframe\">\n",
       "  <thead>\n",
       "    <tr style=\"text-align: right;\">\n",
       "      <th></th>\n",
       "      <th>RowNumber</th>\n",
       "      <th>CustomerId</th>\n",
       "      <th>Surname</th>\n",
       "      <th>CreditScore</th>\n",
       "      <th>Geography</th>\n",
       "      <th>Gender</th>\n",
       "      <th>Age</th>\n",
       "      <th>Tenure</th>\n",
       "      <th>Balance</th>\n",
       "      <th>NumOfProducts</th>\n",
       "      <th>HasCrCard</th>\n",
       "      <th>IsActiveMember</th>\n",
       "      <th>EstimatedSalary</th>\n",
       "      <th>Exited</th>\n",
       "    </tr>\n",
       "  </thead>\n",
       "  <tbody>\n",
       "    <tr>\n",
       "      <th>0</th>\n",
       "      <td>1</td>\n",
       "      <td>15634602</td>\n",
       "      <td>Hargrave</td>\n",
       "      <td>619</td>\n",
       "      <td>France</td>\n",
       "      <td>Female</td>\n",
       "      <td>42</td>\n",
       "      <td>2</td>\n",
       "      <td>0.00</td>\n",
       "      <td>1</td>\n",
       "      <td>1</td>\n",
       "      <td>1</td>\n",
       "      <td>101348.88</td>\n",
       "      <td>1</td>\n",
       "    </tr>\n",
       "    <tr>\n",
       "      <th>1</th>\n",
       "      <td>2</td>\n",
       "      <td>15647311</td>\n",
       "      <td>Hill</td>\n",
       "      <td>608</td>\n",
       "      <td>Spain</td>\n",
       "      <td>Female</td>\n",
       "      <td>41</td>\n",
       "      <td>1</td>\n",
       "      <td>83807.86</td>\n",
       "      <td>1</td>\n",
       "      <td>0</td>\n",
       "      <td>1</td>\n",
       "      <td>112542.58</td>\n",
       "      <td>0</td>\n",
       "    </tr>\n",
       "    <tr>\n",
       "      <th>2</th>\n",
       "      <td>3</td>\n",
       "      <td>15619304</td>\n",
       "      <td>Onio</td>\n",
       "      <td>502</td>\n",
       "      <td>France</td>\n",
       "      <td>Female</td>\n",
       "      <td>42</td>\n",
       "      <td>8</td>\n",
       "      <td>159660.80</td>\n",
       "      <td>3</td>\n",
       "      <td>1</td>\n",
       "      <td>0</td>\n",
       "      <td>113931.57</td>\n",
       "      <td>1</td>\n",
       "    </tr>\n",
       "    <tr>\n",
       "      <th>3</th>\n",
       "      <td>4</td>\n",
       "      <td>15701354</td>\n",
       "      <td>Boni</td>\n",
       "      <td>699</td>\n",
       "      <td>France</td>\n",
       "      <td>Female</td>\n",
       "      <td>39</td>\n",
       "      <td>1</td>\n",
       "      <td>0.00</td>\n",
       "      <td>2</td>\n",
       "      <td>0</td>\n",
       "      <td>0</td>\n",
       "      <td>93826.63</td>\n",
       "      <td>0</td>\n",
       "    </tr>\n",
       "    <tr>\n",
       "      <th>4</th>\n",
       "      <td>5</td>\n",
       "      <td>15737888</td>\n",
       "      <td>Mitchell</td>\n",
       "      <td>850</td>\n",
       "      <td>Spain</td>\n",
       "      <td>Female</td>\n",
       "      <td>43</td>\n",
       "      <td>2</td>\n",
       "      <td>125510.82</td>\n",
       "      <td>1</td>\n",
       "      <td>1</td>\n",
       "      <td>1</td>\n",
       "      <td>79084.10</td>\n",
       "      <td>0</td>\n",
       "    </tr>\n",
       "  </tbody>\n",
       "</table>\n",
       "</div>"
      ],
      "text/plain": [
       "   RowNumber  CustomerId   Surname  CreditScore Geography  Gender  Age  \\\n",
       "0          1    15634602  Hargrave          619    France  Female   42   \n",
       "1          2    15647311      Hill          608     Spain  Female   41   \n",
       "2          3    15619304      Onio          502    France  Female   42   \n",
       "3          4    15701354      Boni          699    France  Female   39   \n",
       "4          5    15737888  Mitchell          850     Spain  Female   43   \n",
       "\n",
       "   Tenure    Balance  NumOfProducts  HasCrCard  IsActiveMember  \\\n",
       "0       2       0.00              1          1               1   \n",
       "1       1   83807.86              1          0               1   \n",
       "2       8  159660.80              3          1               0   \n",
       "3       1       0.00              2          0               0   \n",
       "4       2  125510.82              1          1               1   \n",
       "\n",
       "   EstimatedSalary  Exited  \n",
       "0        101348.88       1  \n",
       "1        112542.58       0  \n",
       "2        113931.57       1  \n",
       "3         93826.63       0  \n",
       "4         79084.10       0  "
      ]
     },
     "execution_count": 1,
     "metadata": {},
     "output_type": "execute_result"
    }
   ],
   "source": [
    "### Import libraries\n",
    "\n",
    "import pandas as pd\n",
    "import numpy as np\n",
    "import matplotlib.pyplot as plt\n",
    "%matplotlib inline\n",
    "\n",
    "### Import Dataset\n",
    "dataset = pd.read_csv('Churn_Modelling.csv')\n",
    "dataset.head()"
   ]
  },
  {
   "cell_type": "code",
   "execution_count": 2,
   "metadata": {},
   "outputs": [
    {
     "data": {
      "text/plain": [
       "(10000, 14)"
      ]
     },
     "execution_count": 2,
     "metadata": {},
     "output_type": "execute_result"
    }
   ],
   "source": [
    "dataset.shape"
   ]
  },
  {
   "cell_type": "code",
   "execution_count": 3,
   "metadata": {},
   "outputs": [
    {
     "data": {
      "text/plain": [
       "((10000, 10), (10000,))"
      ]
     },
     "execution_count": 3,
     "metadata": {},
     "output_type": "execute_result"
    }
   ],
   "source": [
    "### Remove columns that we dont need in Training\n",
    "X = dataset.iloc[:,3:13]\n",
    "y = dataset.iloc[:,13]\n",
    "\n",
    "X.shape,y.shape"
   ]
  },
  {
   "cell_type": "code",
   "execution_count": 6,
   "metadata": {},
   "outputs": [
    {
     "data": {
      "text/plain": [
       "CreditScore          int64\n",
       "Geography           object\n",
       "Gender              object\n",
       "Age                  int64\n",
       "Tenure               int64\n",
       "Balance            float64\n",
       "NumOfProducts        int64\n",
       "HasCrCard            int64\n",
       "IsActiveMember       int64\n",
       "EstimatedSalary    float64\n",
       "dtype: object"
      ]
     },
     "execution_count": 6,
     "metadata": {},
     "output_type": "execute_result"
    }
   ],
   "source": [
    "X.dtypes"
   ]
  },
  {
   "cell_type": "code",
   "execution_count": 7,
   "metadata": {},
   "outputs": [
    {
     "data": {
      "text/html": [
       "<div>\n",
       "<style scoped>\n",
       "    .dataframe tbody tr th:only-of-type {\n",
       "        vertical-align: middle;\n",
       "    }\n",
       "\n",
       "    .dataframe tbody tr th {\n",
       "        vertical-align: top;\n",
       "    }\n",
       "\n",
       "    .dataframe thead th {\n",
       "        text-align: right;\n",
       "    }\n",
       "</style>\n",
       "<table border=\"1\" class=\"dataframe\">\n",
       "  <thead>\n",
       "    <tr style=\"text-align: right;\">\n",
       "      <th></th>\n",
       "      <th>CreditScore</th>\n",
       "      <th>Geography</th>\n",
       "      <th>Gender</th>\n",
       "      <th>Age</th>\n",
       "      <th>Tenure</th>\n",
       "      <th>Balance</th>\n",
       "      <th>NumOfProducts</th>\n",
       "      <th>HasCrCard</th>\n",
       "      <th>IsActiveMember</th>\n",
       "      <th>EstimatedSalary</th>\n",
       "      <th>Germany</th>\n",
       "      <th>Spain</th>\n",
       "      <th>Male</th>\n",
       "    </tr>\n",
       "  </thead>\n",
       "  <tbody>\n",
       "    <tr>\n",
       "      <th>0</th>\n",
       "      <td>619</td>\n",
       "      <td>France</td>\n",
       "      <td>Female</td>\n",
       "      <td>42</td>\n",
       "      <td>2</td>\n",
       "      <td>0.00</td>\n",
       "      <td>1</td>\n",
       "      <td>1</td>\n",
       "      <td>1</td>\n",
       "      <td>101348.88</td>\n",
       "      <td>0</td>\n",
       "      <td>0</td>\n",
       "      <td>0</td>\n",
       "    </tr>\n",
       "    <tr>\n",
       "      <th>1</th>\n",
       "      <td>608</td>\n",
       "      <td>Spain</td>\n",
       "      <td>Female</td>\n",
       "      <td>41</td>\n",
       "      <td>1</td>\n",
       "      <td>83807.86</td>\n",
       "      <td>1</td>\n",
       "      <td>0</td>\n",
       "      <td>1</td>\n",
       "      <td>112542.58</td>\n",
       "      <td>0</td>\n",
       "      <td>1</td>\n",
       "      <td>0</td>\n",
       "    </tr>\n",
       "    <tr>\n",
       "      <th>2</th>\n",
       "      <td>502</td>\n",
       "      <td>France</td>\n",
       "      <td>Female</td>\n",
       "      <td>42</td>\n",
       "      <td>8</td>\n",
       "      <td>159660.80</td>\n",
       "      <td>3</td>\n",
       "      <td>1</td>\n",
       "      <td>0</td>\n",
       "      <td>113931.57</td>\n",
       "      <td>0</td>\n",
       "      <td>0</td>\n",
       "      <td>0</td>\n",
       "    </tr>\n",
       "    <tr>\n",
       "      <th>3</th>\n",
       "      <td>699</td>\n",
       "      <td>France</td>\n",
       "      <td>Female</td>\n",
       "      <td>39</td>\n",
       "      <td>1</td>\n",
       "      <td>0.00</td>\n",
       "      <td>2</td>\n",
       "      <td>0</td>\n",
       "      <td>0</td>\n",
       "      <td>93826.63</td>\n",
       "      <td>0</td>\n",
       "      <td>0</td>\n",
       "      <td>0</td>\n",
       "    </tr>\n",
       "    <tr>\n",
       "      <th>4</th>\n",
       "      <td>850</td>\n",
       "      <td>Spain</td>\n",
       "      <td>Female</td>\n",
       "      <td>43</td>\n",
       "      <td>2</td>\n",
       "      <td>125510.82</td>\n",
       "      <td>1</td>\n",
       "      <td>1</td>\n",
       "      <td>1</td>\n",
       "      <td>79084.10</td>\n",
       "      <td>0</td>\n",
       "      <td>1</td>\n",
       "      <td>0</td>\n",
       "    </tr>\n",
       "  </tbody>\n",
       "</table>\n",
       "</div>"
      ],
      "text/plain": [
       "   CreditScore Geography  Gender  Age  Tenure    Balance  NumOfProducts  \\\n",
       "0          619    France  Female   42       2       0.00              1   \n",
       "1          608     Spain  Female   41       1   83807.86              1   \n",
       "2          502    France  Female   42       8  159660.80              3   \n",
       "3          699    France  Female   39       1       0.00              2   \n",
       "4          850     Spain  Female   43       2  125510.82              1   \n",
       "\n",
       "   HasCrCard  IsActiveMember  EstimatedSalary  Germany  Spain  Male  \n",
       "0          1               1        101348.88        0      0     0  \n",
       "1          0               1        112542.58        0      1     0  \n",
       "2          1               0        113931.57        0      0     0  \n",
       "3          0               0         93826.63        0      0     0  \n",
       "4          1               1         79084.10        0      1     0  "
      ]
     },
     "execution_count": 7,
     "metadata": {},
     "output_type": "execute_result"
    }
   ],
   "source": [
    "### Creating Dummy varaibles\n",
    "\n",
    "geography = pd.get_dummies(X['Geography'],drop_first=True)\n",
    "gender = pd.get_dummies(X['Gender'],drop_first=True)\n",
    "\n",
    "### Concat Dummy columns to X\n",
    "X = pd.concat([X,geography,gender],axis=1)\n",
    "X.head()"
   ]
  },
  {
   "cell_type": "code",
   "execution_count": 8,
   "metadata": {},
   "outputs": [
    {
     "data": {
      "text/html": [
       "<div>\n",
       "<style scoped>\n",
       "    .dataframe tbody tr th:only-of-type {\n",
       "        vertical-align: middle;\n",
       "    }\n",
       "\n",
       "    .dataframe tbody tr th {\n",
       "        vertical-align: top;\n",
       "    }\n",
       "\n",
       "    .dataframe thead th {\n",
       "        text-align: right;\n",
       "    }\n",
       "</style>\n",
       "<table border=\"1\" class=\"dataframe\">\n",
       "  <thead>\n",
       "    <tr style=\"text-align: right;\">\n",
       "      <th></th>\n",
       "      <th>CreditScore</th>\n",
       "      <th>Age</th>\n",
       "      <th>Tenure</th>\n",
       "      <th>Balance</th>\n",
       "      <th>NumOfProducts</th>\n",
       "      <th>HasCrCard</th>\n",
       "      <th>IsActiveMember</th>\n",
       "      <th>EstimatedSalary</th>\n",
       "      <th>Germany</th>\n",
       "      <th>Spain</th>\n",
       "      <th>Male</th>\n",
       "    </tr>\n",
       "  </thead>\n",
       "  <tbody>\n",
       "    <tr>\n",
       "      <th>0</th>\n",
       "      <td>619</td>\n",
       "      <td>42</td>\n",
       "      <td>2</td>\n",
       "      <td>0.00</td>\n",
       "      <td>1</td>\n",
       "      <td>1</td>\n",
       "      <td>1</td>\n",
       "      <td>101348.88</td>\n",
       "      <td>0</td>\n",
       "      <td>0</td>\n",
       "      <td>0</td>\n",
       "    </tr>\n",
       "    <tr>\n",
       "      <th>1</th>\n",
       "      <td>608</td>\n",
       "      <td>41</td>\n",
       "      <td>1</td>\n",
       "      <td>83807.86</td>\n",
       "      <td>1</td>\n",
       "      <td>0</td>\n",
       "      <td>1</td>\n",
       "      <td>112542.58</td>\n",
       "      <td>0</td>\n",
       "      <td>1</td>\n",
       "      <td>0</td>\n",
       "    </tr>\n",
       "    <tr>\n",
       "      <th>2</th>\n",
       "      <td>502</td>\n",
       "      <td>42</td>\n",
       "      <td>8</td>\n",
       "      <td>159660.80</td>\n",
       "      <td>3</td>\n",
       "      <td>1</td>\n",
       "      <td>0</td>\n",
       "      <td>113931.57</td>\n",
       "      <td>0</td>\n",
       "      <td>0</td>\n",
       "      <td>0</td>\n",
       "    </tr>\n",
       "    <tr>\n",
       "      <th>3</th>\n",
       "      <td>699</td>\n",
       "      <td>39</td>\n",
       "      <td>1</td>\n",
       "      <td>0.00</td>\n",
       "      <td>2</td>\n",
       "      <td>0</td>\n",
       "      <td>0</td>\n",
       "      <td>93826.63</td>\n",
       "      <td>0</td>\n",
       "      <td>0</td>\n",
       "      <td>0</td>\n",
       "    </tr>\n",
       "    <tr>\n",
       "      <th>4</th>\n",
       "      <td>850</td>\n",
       "      <td>43</td>\n",
       "      <td>2</td>\n",
       "      <td>125510.82</td>\n",
       "      <td>1</td>\n",
       "      <td>1</td>\n",
       "      <td>1</td>\n",
       "      <td>79084.10</td>\n",
       "      <td>0</td>\n",
       "      <td>1</td>\n",
       "      <td>0</td>\n",
       "    </tr>\n",
       "  </tbody>\n",
       "</table>\n",
       "</div>"
      ],
      "text/plain": [
       "   CreditScore  Age  Tenure    Balance  NumOfProducts  HasCrCard  \\\n",
       "0          619   42       2       0.00              1          1   \n",
       "1          608   41       1   83807.86              1          0   \n",
       "2          502   42       8  159660.80              3          1   \n",
       "3          699   39       1       0.00              2          0   \n",
       "4          850   43       2  125510.82              1          1   \n",
       "\n",
       "   IsActiveMember  EstimatedSalary  Germany  Spain  Male  \n",
       "0               1        101348.88        0      0     0  \n",
       "1               1        112542.58        0      1     0  \n",
       "2               0        113931.57        0      0     0  \n",
       "3               0         93826.63        0      0     0  \n",
       "4               1         79084.10        0      1     0  "
      ]
     },
     "execution_count": 8,
     "metadata": {},
     "output_type": "execute_result"
    }
   ],
   "source": [
    "### Drop Object columns \n",
    "X = X.drop(['Geography','Gender'],axis=1)\n",
    "X.head()"
   ]
  },
  {
   "cell_type": "code",
   "execution_count": 9,
   "metadata": {},
   "outputs": [
    {
     "data": {
      "text/plain": [
       "((8000, 11), (2000, 11), (8000,), (2000,))"
      ]
     },
     "execution_count": 9,
     "metadata": {},
     "output_type": "execute_result"
    }
   ],
   "source": [
    "### Train Test Split\n",
    "from sklearn.model_selection import train_test_split\n",
    "X_train,X_test,y_train,y_test = train_test_split(X,y,test_size=0.2,random_state=0)\n",
    "\n",
    "X_train.shape,X_test.shape,y_train.shape,y_test.shape"
   ]
  },
  {
   "cell_type": "code",
   "execution_count": 10,
   "metadata": {},
   "outputs": [],
   "source": [
    "### Feature Scaling\n",
    "\n",
    "from sklearn.preprocessing import StandardScaler\n",
    "sc = StandardScaler()\n",
    "X_train = sc.fit_transform(X_train)\n",
    "X_test = sc.fit_transform(X_test)"
   ]
  },
  {
   "cell_type": "code",
   "execution_count": 12,
   "metadata": {},
   "outputs": [
    {
     "data": {
      "text/plain": [
       "numpy.ndarray"
      ]
     },
     "execution_count": 12,
     "metadata": {},
     "output_type": "execute_result"
    }
   ],
   "source": [
    "type(X_train)"
   ]
  },
  {
   "cell_type": "markdown",
   "metadata": {},
   "source": [
    "--------------\n",
    "\n",
    "#### Artificial Neural Network --- ANN"
   ]
  },
  {
   "cell_type": "code",
   "execution_count": 16,
   "metadata": {},
   "outputs": [],
   "source": [
    "### Import Keras libraries and packages\n",
    "\n",
    "from tensorflow.keras.models import Sequential\n",
    "from tensorflow.keras.layers import Dense\n",
    "from tensorflow.keras.layers import LeakyReLU,PReLU,ELU\n",
    "from tensorflow.keras.layers import Dropout "
   ]
  },
  {
   "cell_type": "markdown",
   "metadata": {},
   "source": [
    "#### Initializing ANN Architecture --- Sequential"
   ]
  },
  {
   "cell_type": "code",
   "execution_count": 20,
   "metadata": {},
   "outputs": [],
   "source": [
    "classifier = Sequential()"
   ]
  },
  {
   "cell_type": "markdown",
   "metadata": {},
   "source": [
    "#### Adding Input Layer and first Hidden Layer \n",
    "\n",
    "Weight Initialization Techiniques\n",
    "\n",
    "1. Uniform Distribution  : It works really well with Sigmoid Activation Function\n",
    "2. Xavier/Gorat Distribution w.r.t Uniform and Normal : It works really well with Sigmoid Activation Function\n",
    "3. HE w.r.t Uniform and Normal : It works really well with RELU Activation function"
   ]
  },
  {
   "cell_type": "code",
   "execution_count": 21,
   "metadata": {},
   "outputs": [],
   "source": [
    "### output_dimension or units-- Number of neurons in First Hidden layer\n",
    "### init or kernel_initializer\n",
    "### input_dimension  -- Number of neurons for inputs i-e Features\n",
    "classifier.add(Dense(units=6,kernel_initializer= 'he_uniform',activation='relu',input_dim=11))\n",
    "\n",
    "### 11 inputs neurons in Input layer , 6 neurons in Hidden layer"
   ]
  },
  {
   "cell_type": "markdown",
   "metadata": {},
   "source": [
    "#### Second Hidden layer"
   ]
  },
  {
   "cell_type": "code",
   "execution_count": 22,
   "metadata": {},
   "outputs": [],
   "source": [
    "classifier.add(Dense(units=6,kernel_initializer='he_uniform',activation='relu'))"
   ]
  },
  {
   "cell_type": "markdown",
   "metadata": {},
   "source": [
    "#### Output layer"
   ]
  },
  {
   "cell_type": "code",
   "execution_count": 23,
   "metadata": {},
   "outputs": [],
   "source": [
    "classifier.add(Dense(units=1,kernel_initializer='glorot_uniform',activation='sigmoid'))"
   ]
  },
  {
   "cell_type": "markdown",
   "metadata": {},
   "source": [
    "#### Summary of your ANN "
   ]
  },
  {
   "cell_type": "code",
   "execution_count": 25,
   "metadata": {},
   "outputs": [
    {
     "name": "stdout",
     "output_type": "stream",
     "text": [
      "Model: \"sequential_1\"\n",
      "_________________________________________________________________\n",
      "Layer (type)                 Output Shape              Param #   \n",
      "=================================================================\n",
      "dense_1 (Dense)              (None, 6)                 72        \n",
      "_________________________________________________________________\n",
      "dense_2 (Dense)              (None, 6)                 42        \n",
      "_________________________________________________________________\n",
      "dense_3 (Dense)              (None, 1)                 7         \n",
      "=================================================================\n",
      "Total params: 121\n",
      "Trainable params: 121\n",
      "Non-trainable params: 0\n",
      "_________________________________________________________________\n"
     ]
    }
   ],
   "source": [
    "classifier.summary()"
   ]
  },
  {
   "cell_type": "markdown",
   "metadata": {},
   "source": [
    "#### Compile ANN ---- Loss Function,Optimizer,Metrics"
   ]
  },
  {
   "cell_type": "code",
   "execution_count": 26,
   "metadata": {},
   "outputs": [
    {
     "name": "stdout",
     "output_type": "stream",
     "text": [
      "WARNING:tensorflow:From C:\\Users\\Lucky_Rathod\\Anaconda3\\envs\\kn_course\\lib\\site-packages\\tensorflow_core\\python\\ops\\nn_impl.py:183: where (from tensorflow.python.ops.array_ops) is deprecated and will be removed in a future version.\n",
      "Instructions for updating:\n",
      "Use tf.where in 2.0, which has the same broadcast rule as np.where\n"
     ]
    }
   ],
   "source": [
    "classifier.compile(loss='binary_crossentropy',optimizer='adam',metrics=['accuracy'])"
   ]
  },
  {
   "cell_type": "markdown",
   "metadata": {},
   "source": [
    "#### Fit compiled ANN to the Training set\n",
    "\n",
    "Training will be done as per Batch Size and Iterations "
   ]
  },
  {
   "cell_type": "code",
   "execution_count": 27,
   "metadata": {},
   "outputs": [
    {
     "name": "stdout",
     "output_type": "stream",
     "text": [
      "WARNING:tensorflow:The `nb_epoch` argument in `fit` has been renamed `epochs`.\n",
      "Train on 5359 samples, validate on 2641 samples\n",
      "Epoch 1/100\n",
      "5359/5359 [==============================] - 34s 6ms/sample - loss: 0.6201 - acc: 0.6988 - val_loss: 0.5136 - val_acc: 0.7864\n",
      "Epoch 2/100\n",
      "5359/5359 [==============================] - 4s 684us/sample - loss: 0.4690 - acc: 0.8001 - val_loss: 0.4482 - val_acc: 0.8046\n",
      "Epoch 3/100\n",
      "5359/5359 [==============================] - 3s 599us/sample - loss: 0.4188 - acc: 0.8179 - val_loss: 0.4193 - val_acc: 0.8254\n",
      "Epoch 4/100\n",
      "5359/5359 [==============================] - 3s 649us/sample - loss: 0.3889 - acc: 0.8399 - val_loss: 0.3989 - val_acc: 0.8353\n",
      "Epoch 5/100\n",
      "5359/5359 [==============================] - 3s 579us/sample - loss: 0.3709 - acc: 0.8487 - val_loss: 0.3871 - val_acc: 0.8372\n",
      "Epoch 6/100\n",
      "5359/5359 [==============================] - 3s 613us/sample - loss: 0.3597 - acc: 0.8515 - val_loss: 0.3813 - val_acc: 0.8376\n",
      "Epoch 7/100\n",
      "5359/5359 [==============================] - 3s 607us/sample - loss: 0.3531 - acc: 0.8561 - val_loss: 0.3786 - val_acc: 0.8406\n",
      "Epoch 8/100\n",
      "5359/5359 [==============================] - 3s 620us/sample - loss: 0.3498 - acc: 0.8569 - val_loss: 0.3758 - val_acc: 0.8425\n",
      "Epoch 9/100\n",
      "5359/5359 [==============================] - 3s 584us/sample - loss: 0.3470 - acc: 0.8580 - val_loss: 0.3738 - val_acc: 0.8459\n",
      "Epoch 10/100\n",
      "5359/5359 [==============================] - 3s 563us/sample - loss: 0.3452 - acc: 0.8569 - val_loss: 0.3724 - val_acc: 0.8470\n",
      "Epoch 11/100\n",
      "5359/5359 [==============================] - 3s 552us/sample - loss: 0.3436 - acc: 0.8559 - val_loss: 0.3715 - val_acc: 0.8451\n",
      "Epoch 12/100\n",
      "5359/5359 [==============================] - 3s 546us/sample - loss: 0.3426 - acc: 0.8595 - val_loss: 0.3700 - val_acc: 0.8478\n",
      "Epoch 13/100\n",
      "5359/5359 [==============================] - 3s 544us/sample - loss: 0.3415 - acc: 0.8606 - val_loss: 0.3692 - val_acc: 0.8466\n",
      "Epoch 14/100\n",
      "5359/5359 [==============================] - 3s 610us/sample - loss: 0.3405 - acc: 0.8604 - val_loss: 0.3704 - val_acc: 0.8478\n",
      "Epoch 15/100\n",
      "5359/5359 [==============================] - 3s 540us/sample - loss: 0.3402 - acc: 0.8574 - val_loss: 0.3680 - val_acc: 0.8485\n",
      "Epoch 16/100\n",
      "5359/5359 [==============================] - 3s 553us/sample - loss: 0.3397 - acc: 0.8593 - val_loss: 0.3672 - val_acc: 0.8493\n",
      "Epoch 17/100\n",
      "5359/5359 [==============================] - 3s 617us/sample - loss: 0.3392 - acc: 0.8580 - val_loss: 0.3676 - val_acc: 0.8519\n",
      "Epoch 18/100\n",
      "5359/5359 [==============================] - 3s 568us/sample - loss: 0.3385 - acc: 0.8589 - val_loss: 0.3650 - val_acc: 0.8501\n",
      "Epoch 19/100\n",
      "5359/5359 [==============================] - 4s 731us/sample - loss: 0.3376 - acc: 0.8593 - val_loss: 0.3646 - val_acc: 0.8508\n",
      "Epoch 20/100\n",
      "5359/5359 [==============================] - 3s 642us/sample - loss: 0.3369 - acc: 0.8602 - val_loss: 0.3640 - val_acc: 0.8512\n",
      "Epoch 21/100\n",
      "5359/5359 [==============================] - 3s 580us/sample - loss: 0.3366 - acc: 0.8617 - val_loss: 0.3634 - val_acc: 0.8508\n",
      "Epoch 22/100\n",
      "5359/5359 [==============================] - 3s 553us/sample - loss: 0.3360 - acc: 0.8621 - val_loss: 0.3626 - val_acc: 0.8523\n",
      "Epoch 23/100\n",
      "5359/5359 [==============================] - 3s 564us/sample - loss: 0.3350 - acc: 0.8615 - val_loss: 0.3632 - val_acc: 0.8527\n",
      "Epoch 24/100\n",
      "5359/5359 [==============================] - 4s 657us/sample - loss: 0.3345 - acc: 0.8593 - val_loss: 0.3624 - val_acc: 0.8542\n",
      "Epoch 25/100\n",
      "5359/5359 [==============================] - 3s 574us/sample - loss: 0.3339 - acc: 0.8610 - val_loss: 0.3630 - val_acc: 0.8531\n",
      "Epoch 26/100\n",
      "5359/5359 [==============================] - 3s 560us/sample - loss: 0.3330 - acc: 0.8610 - val_loss: 0.3616 - val_acc: 0.8542\n",
      "Epoch 27/100\n",
      "5359/5359 [==============================] - 3s 555us/sample - loss: 0.3326 - acc: 0.8627 - val_loss: 0.3614 - val_acc: 0.8531\n",
      "Epoch 28/100\n",
      "5359/5359 [==============================] - 3s 609us/sample - loss: 0.3326 - acc: 0.8632 - val_loss: 0.3610 - val_acc: 0.8550\n",
      "Epoch 29/100\n",
      "5359/5359 [==============================] - 3s 645us/sample - loss: 0.3319 - acc: 0.8628 - val_loss: 0.3596 - val_acc: 0.8550\n",
      "Epoch 30/100\n",
      "5359/5359 [==============================] - 3s 551us/sample - loss: 0.3313 - acc: 0.8623 - val_loss: 0.3597 - val_acc: 0.8546\n",
      "Epoch 31/100\n",
      "5359/5359 [==============================] - 3s 608us/sample - loss: 0.3307 - acc: 0.8645 - val_loss: 0.3597 - val_acc: 0.8542\n",
      "Epoch 32/100\n",
      "5359/5359 [==============================] - 3s 630us/sample - loss: 0.3307 - acc: 0.8636 - val_loss: 0.3614 - val_acc: 0.8535\n",
      "Epoch 33/100\n",
      "5359/5359 [==============================] - 3s 635us/sample - loss: 0.3301 - acc: 0.8627 - val_loss: 0.3592 - val_acc: 0.8580\n",
      "Epoch 34/100\n",
      "5359/5359 [==============================] - 4s 705us/sample - loss: 0.3296 - acc: 0.8630 - val_loss: 0.3594 - val_acc: 0.8546\n",
      "Epoch 35/100\n",
      "5359/5359 [==============================] - 3s 609us/sample - loss: 0.3298 - acc: 0.8630 - val_loss: 0.3590 - val_acc: 0.8557\n",
      "Epoch 36/100\n",
      "5359/5359 [==============================] - 4s 684us/sample - loss: 0.3301 - acc: 0.8649 - val_loss: 0.3586 - val_acc: 0.8573\n",
      "Epoch 37/100\n",
      "5359/5359 [==============================] - 3s 622us/sample - loss: 0.3293 - acc: 0.8615 - val_loss: 0.3594 - val_acc: 0.8546\n",
      "Epoch 38/100\n",
      "5359/5359 [==============================] - 4s 692us/sample - loss: 0.3295 - acc: 0.8642 - val_loss: 0.3584 - val_acc: 0.8561\n",
      "Epoch 39/100\n",
      "5359/5359 [==============================] - 4s 654us/sample - loss: 0.3288 - acc: 0.8640 - val_loss: 0.3599 - val_acc: 0.8527\n",
      "Epoch 40/100\n",
      "5359/5359 [==============================] - 3s 648us/sample - loss: 0.3292 - acc: 0.8632 - val_loss: 0.3577 - val_acc: 0.8561\n",
      "Epoch 41/100\n",
      "5359/5359 [==============================] - 3s 618us/sample - loss: 0.3287 - acc: 0.8640 - val_loss: 0.3576 - val_acc: 0.8569\n",
      "Epoch 42/100\n",
      "5359/5359 [==============================] - 4s 684us/sample - loss: 0.3287 - acc: 0.8621 - val_loss: 0.3574 - val_acc: 0.8561\n",
      "Epoch 43/100\n",
      "5359/5359 [==============================] - 4s 781us/sample - loss: 0.3287 - acc: 0.8625 - val_loss: 0.3592 - val_acc: 0.8546\n",
      "Epoch 44/100\n",
      "5359/5359 [==============================] - 4s 791us/sample - loss: 0.3290 - acc: 0.8632 - val_loss: 0.3576 - val_acc: 0.8557\n",
      "Epoch 45/100\n",
      "5359/5359 [==============================] - 4s 766us/sample - loss: 0.3281 - acc: 0.8643 - val_loss: 0.3584 - val_acc: 0.8561\n",
      "Epoch 46/100\n",
      "5359/5359 [==============================] - 3s 601us/sample - loss: 0.3286 - acc: 0.8636 - val_loss: 0.3576 - val_acc: 0.8576\n",
      "Epoch 47/100\n",
      "5359/5359 [==============================] - 3s 624us/sample - loss: 0.3285 - acc: 0.8647 - val_loss: 0.3581 - val_acc: 0.8569\n",
      "Epoch 48/100\n",
      "5359/5359 [==============================] - 3s 595us/sample - loss: 0.3285 - acc: 0.8645 - val_loss: 0.3570 - val_acc: 0.8550\n",
      "Epoch 49/100\n",
      "5359/5359 [==============================] - 3s 644us/sample - loss: 0.3281 - acc: 0.8643 - val_loss: 0.3585 - val_acc: 0.8538\n",
      "Epoch 50/100\n",
      "5359/5359 [==============================] - 3s 646us/sample - loss: 0.3284 - acc: 0.8660 - val_loss: 0.3570 - val_acc: 0.8569\n",
      "Epoch 51/100\n",
      "5359/5359 [==============================] - 3s 638us/sample - loss: 0.3278 - acc: 0.8632 - val_loss: 0.3568 - val_acc: 0.8542\n",
      "Epoch 52/100\n",
      "5359/5359 [==============================] - 4s 723us/sample - loss: 0.3281 - acc: 0.8647 - val_loss: 0.3578 - val_acc: 0.8550\n",
      "Epoch 53/100\n",
      "5359/5359 [==============================] - 4s 709us/sample - loss: 0.3281 - acc: 0.8634 - val_loss: 0.3565 - val_acc: 0.8565\n",
      "Epoch 54/100\n",
      "5359/5359 [==============================] - 4s 660us/sample - loss: 0.3278 - acc: 0.8658 - val_loss: 0.3561 - val_acc: 0.8531\n",
      "Epoch 55/100\n",
      "5359/5359 [==============================] - 3s 649us/sample - loss: 0.3278 - acc: 0.8647 - val_loss: 0.3583 - val_acc: 0.8546\n",
      "Epoch 56/100\n",
      "5359/5359 [==============================] - 4s 721us/sample - loss: 0.3280 - acc: 0.8643 - val_loss: 0.3568 - val_acc: 0.8546\n",
      "Epoch 57/100\n",
      "5359/5359 [==============================] - 4s 685us/sample - loss: 0.3277 - acc: 0.8655 - val_loss: 0.3568 - val_acc: 0.8561\n",
      "Epoch 58/100\n",
      "5359/5359 [==============================] - 4s 722us/sample - loss: 0.3276 - acc: 0.8630 - val_loss: 0.3560 - val_acc: 0.8554\n"
     ]
    },
    {
     "name": "stdout",
     "output_type": "stream",
     "text": [
      "Epoch 59/100\n",
      "5359/5359 [==============================] - 4s 685us/sample - loss: 0.3276 - acc: 0.8640 - val_loss: 0.3561 - val_acc: 0.8557\n",
      "Epoch 60/100\n",
      "5359/5359 [==============================] - 4s 735us/sample - loss: 0.3277 - acc: 0.8643 - val_loss: 0.3565 - val_acc: 0.8573\n",
      "Epoch 61/100\n",
      "5359/5359 [==============================] - 4s 715us/sample - loss: 0.3277 - acc: 0.8645 - val_loss: 0.3570 - val_acc: 0.8573\n",
      "Epoch 62/100\n",
      "5359/5359 [==============================] - 4s 732us/sample - loss: 0.3279 - acc: 0.8643 - val_loss: 0.3563 - val_acc: 0.8557\n",
      "Epoch 63/100\n",
      "5359/5359 [==============================] - 3s 651us/sample - loss: 0.3272 - acc: 0.8645 - val_loss: 0.3575 - val_acc: 0.8569\n",
      "Epoch 64/100\n",
      "5359/5359 [==============================] - 4s 667us/sample - loss: 0.3268 - acc: 0.8670 - val_loss: 0.3559 - val_acc: 0.8565\n",
      "Epoch 65/100\n",
      "5359/5359 [==============================] - 4s 760us/sample - loss: 0.3276 - acc: 0.8670 - val_loss: 0.3563 - val_acc: 0.8557\n",
      "Epoch 66/100\n",
      "5359/5359 [==============================] - 4s 692us/sample - loss: 0.3267 - acc: 0.8649 - val_loss: 0.3561 - val_acc: 0.8550\n",
      "Epoch 67/100\n",
      "5359/5359 [==============================] - 3s 643us/sample - loss: 0.3273 - acc: 0.8643 - val_loss: 0.3567 - val_acc: 0.8550\n",
      "Epoch 68/100\n",
      "5359/5359 [==============================] - 3s 651us/sample - loss: 0.3271 - acc: 0.8670 - val_loss: 0.3563 - val_acc: 0.8580\n",
      "Epoch 69/100\n",
      "5359/5359 [==============================] - 4s 778us/sample - loss: 0.3274 - acc: 0.8666 - val_loss: 0.3575 - val_acc: 0.8542\n",
      "Epoch 70/100\n",
      "5359/5359 [==============================] - 3s 641us/sample - loss: 0.3272 - acc: 0.8655 - val_loss: 0.3568 - val_acc: 0.8565\n",
      "Epoch 71/100\n",
      "5359/5359 [==============================] - 4s 711us/sample - loss: 0.3273 - acc: 0.8645 - val_loss: 0.3563 - val_acc: 0.8554\n",
      "Epoch 72/100\n",
      "5359/5359 [==============================] - 3s 647us/sample - loss: 0.3274 - acc: 0.8662 - val_loss: 0.3559 - val_acc: 0.8546\n",
      "Epoch 73/100\n",
      "5359/5359 [==============================] - 4s 683us/sample - loss: 0.3274 - acc: 0.8662 - val_loss: 0.3552 - val_acc: 0.8554\n",
      "Epoch 74/100\n",
      "5359/5359 [==============================] - 4s 685us/sample - loss: 0.3272 - acc: 0.8666 - val_loss: 0.3575 - val_acc: 0.8554\n",
      "Epoch 75/100\n",
      "5359/5359 [==============================] - 4s 660us/sample - loss: 0.3269 - acc: 0.8653 - val_loss: 0.3566 - val_acc: 0.8561\n",
      "Epoch 76/100\n",
      "5359/5359 [==============================] - 4s 654us/sample - loss: 0.3267 - acc: 0.8655 - val_loss: 0.3560 - val_acc: 0.8535\n",
      "Epoch 77/100\n",
      "5359/5359 [==============================] - 4s 670us/sample - loss: 0.3269 - acc: 0.8668 - val_loss: 0.3567 - val_acc: 0.8557\n",
      "Epoch 78/100\n",
      "5359/5359 [==============================] - 4s 728us/sample - loss: 0.3269 - acc: 0.8658 - val_loss: 0.3555 - val_acc: 0.8561\n",
      "Epoch 79/100\n",
      "5359/5359 [==============================] - 4s 679us/sample - loss: 0.3269 - acc: 0.8656 - val_loss: 0.3553 - val_acc: 0.8554\n",
      "Epoch 80/100\n",
      "5359/5359 [==============================] - 4s 710us/sample - loss: 0.3266 - acc: 0.8651 - val_loss: 0.3567 - val_acc: 0.8546\n",
      "Epoch 81/100\n",
      "5359/5359 [==============================] - 4s 673us/sample - loss: 0.3268 - acc: 0.8642 - val_loss: 0.3566 - val_acc: 0.8550\n",
      "Epoch 82/100\n",
      "5359/5359 [==============================] - 4s 819us/sample - loss: 0.3266 - acc: 0.8660 - val_loss: 0.3567 - val_acc: 0.8561\n",
      "Epoch 83/100\n",
      "5359/5359 [==============================] - 3s 648us/sample - loss: 0.3263 - acc: 0.8651 - val_loss: 0.3550 - val_acc: 0.8573\n",
      "Epoch 84/100\n",
      "5359/5359 [==============================] - 3s 647us/sample - loss: 0.3263 - acc: 0.8670 - val_loss: 0.3562 - val_acc: 0.8542\n",
      "Epoch 85/100\n",
      "5359/5359 [==============================] - 4s 666us/sample - loss: 0.3264 - acc: 0.8656 - val_loss: 0.3546 - val_acc: 0.8576\n",
      "Epoch 86/100\n",
      "5359/5359 [==============================] - 4s 709us/sample - loss: 0.3263 - acc: 0.8642 - val_loss: 0.3547 - val_acc: 0.8588\n",
      "Epoch 87/100\n",
      "5359/5359 [==============================] - 4s 703us/sample - loss: 0.3265 - acc: 0.8658 - val_loss: 0.3543 - val_acc: 0.8569\n",
      "Epoch 88/100\n",
      "5359/5359 [==============================] - 4s 721us/sample - loss: 0.3261 - acc: 0.8656 - val_loss: 0.3543 - val_acc: 0.8573\n",
      "Epoch 89/100\n",
      "5359/5359 [==============================] - 4s 682us/sample - loss: 0.3256 - acc: 0.8660 - val_loss: 0.3546 - val_acc: 0.8607\n",
      "Epoch 90/100\n",
      "5359/5359 [==============================] - 4s 729us/sample - loss: 0.3261 - acc: 0.8653 - val_loss: 0.3549 - val_acc: 0.8580\n",
      "Epoch 91/100\n",
      "5359/5359 [==============================] - 4s 807us/sample - loss: 0.3254 - acc: 0.8660 - val_loss: 0.3537 - val_acc: 0.8576\n",
      "Epoch 92/100\n",
      "5359/5359 [==============================] - 4s 656us/sample - loss: 0.3257 - acc: 0.8653 - val_loss: 0.3527 - val_acc: 0.8591\n",
      "Epoch 93/100\n",
      "5359/5359 [==============================] - 4s 656us/sample - loss: 0.3256 - acc: 0.8651 - val_loss: 0.3534 - val_acc: 0.8599\n",
      "Epoch 94/100\n",
      "5359/5359 [==============================] - 4s 754us/sample - loss: 0.3257 - acc: 0.8662 - val_loss: 0.3541 - val_acc: 0.8576\n",
      "Epoch 95/100\n",
      "5359/5359 [==============================] - 4s 687us/sample - loss: 0.3259 - acc: 0.8638 - val_loss: 0.3544 - val_acc: 0.8569\n",
      "Epoch 96/100\n",
      "5359/5359 [==============================] - 4s 660us/sample - loss: 0.3257 - acc: 0.8668 - val_loss: 0.3541 - val_acc: 0.8580\n",
      "Epoch 97/100\n",
      "5359/5359 [==============================] - 4s 673us/sample - loss: 0.3253 - acc: 0.8666 - val_loss: 0.3560 - val_acc: 0.8573\n",
      "Epoch 98/100\n",
      "5359/5359 [==============================] - 4s 661us/sample - loss: 0.3259 - acc: 0.8656 - val_loss: 0.3547 - val_acc: 0.8591\n",
      "Epoch 99/100\n",
      "5359/5359 [==============================] - 4s 767us/sample - loss: 0.3259 - acc: 0.8645 - val_loss: 0.3536 - val_acc: 0.8603\n",
      "Epoch 100/100\n",
      "5359/5359 [==============================] - 3s 649us/sample - loss: 0.3254 - acc: 0.8673 - val_loss: 0.3537 - val_acc: 0.8595\n"
     ]
    }
   ],
   "source": [
    "model_history = classifier.fit(X_train,y_train,validation_split=0.33,batch_size=10,nb_epoch=100)"
   ]
  },
  {
   "cell_type": "markdown",
   "metadata": {},
   "source": [
    "#### Predicting Test Result Set"
   ]
  },
  {
   "cell_type": "code",
   "execution_count": 28,
   "metadata": {},
   "outputs": [
    {
     "data": {
      "text/plain": [
       "array([[0.32855165],\n",
       "       [0.3037234 ],\n",
       "       [0.09752628],\n",
       "       ...,\n",
       "       [0.17023036],\n",
       "       [0.14256904],\n",
       "       [0.20857823]], dtype=float32)"
      ]
     },
     "execution_count": 28,
     "metadata": {},
     "output_type": "execute_result"
    }
   ],
   "source": [
    "y_pred = classifier.predict(X_test)\n",
    "y_pred"
   ]
  },
  {
   "cell_type": "code",
   "execution_count": 29,
   "metadata": {},
   "outputs": [
    {
     "data": {
      "text/plain": [
       "array([[False],\n",
       "       [False],\n",
       "       [False],\n",
       "       ...,\n",
       "       [False],\n",
       "       [False],\n",
       "       [False]])"
      ]
     },
     "execution_count": 29,
     "metadata": {},
     "output_type": "execute_result"
    }
   ],
   "source": [
    "y_pred = (y_pred>0.5)\n",
    "y_pred"
   ]
  },
  {
   "cell_type": "markdown",
   "metadata": {},
   "source": [
    "#### Evaluating Test Results"
   ]
  },
  {
   "cell_type": "code",
   "execution_count": 31,
   "metadata": {},
   "outputs": [
    {
     "name": "stdout",
     "output_type": "stream",
     "text": [
      "0.8625\n",
      "[[1527   68]\n",
      " [ 207  198]]\n",
      "              precision    recall  f1-score   support\n",
      "\n",
      "           0       0.88      0.96      0.92      1595\n",
      "           1       0.74      0.49      0.59       405\n",
      "\n",
      "    accuracy                           0.86      2000\n",
      "   macro avg       0.81      0.72      0.75      2000\n",
      "weighted avg       0.85      0.86      0.85      2000\n",
      "\n"
     ]
    }
   ],
   "source": [
    "from sklearn.metrics import confusion_matrix,accuracy_score,classification_report\n",
    "\n",
    "print(accuracy_score(y_test,y_pred))\n",
    "print(confusion_matrix(y_test,y_pred))\n",
    "print(classification_report(y_test,y_pred))"
   ]
  },
  {
   "cell_type": "markdown",
   "metadata": {},
   "source": [
    "-------"
   ]
  },
  {
   "cell_type": "markdown",
   "metadata": {},
   "source": [
    "#### Adding Dropout layer  ----- Apply Dropout for Very deep neural network"
   ]
  },
  {
   "cell_type": "code",
   "execution_count": 32,
   "metadata": {},
   "outputs": [
    {
     "name": "stdout",
     "output_type": "stream",
     "text": [
      "Model: \"sequential_2\"\n",
      "_________________________________________________________________\n",
      "Layer (type)                 Output Shape              Param #   \n",
      "=================================================================\n",
      "dense_4 (Dense)              (None, 6)                 72        \n",
      "_________________________________________________________________\n",
      "dropout (Dropout)            (None, 6)                 0         \n",
      "_________________________________________________________________\n",
      "dense_5 (Dense)              (None, 6)                 42        \n",
      "_________________________________________________________________\n",
      "dropout_1 (Dropout)          (None, 6)                 0         \n",
      "_________________________________________________________________\n",
      "dense_6 (Dense)              (None, 1)                 7         \n",
      "=================================================================\n",
      "Total params: 121\n",
      "Trainable params: 121\n",
      "Non-trainable params: 0\n",
      "_________________________________________________________________\n"
     ]
    }
   ],
   "source": [
    "classifier = Sequential()\n",
    "classifier.add(Dense(units=6,kernel_initializer= 'he_uniform',activation='relu',input_dim=11))\n",
    "classifier.add(Dropout(0.3))\n",
    "classifier.add(Dense(units=6,kernel_initializer='he_uniform',activation='relu'))\n",
    "classifier.add(Dropout(0.4))\n",
    "classifier.add(Dense(units=1,kernel_initializer='glorot_uniform',activation='sigmoid'))\n",
    "classifier.summary()"
   ]
  },
  {
   "cell_type": "code",
   "execution_count": 33,
   "metadata": {},
   "outputs": [],
   "source": [
    "classifier.compile(loss='binary_crossentropy',optimizer='adam',metrics=['accuracy'])"
   ]
  },
  {
   "cell_type": "code",
   "execution_count": 34,
   "metadata": {},
   "outputs": [
    {
     "name": "stdout",
     "output_type": "stream",
     "text": [
      "WARNING:tensorflow:The `nb_epoch` argument in `fit` has been renamed `epochs`.\n",
      "Train on 5359 samples, validate on 2641 samples\n",
      "Epoch 1/100\n",
      "5359/5359 [==============================] - 8s 2ms/sample - loss: 0.6356 - acc: 0.7610 - val_loss: 0.5330 - val_acc: 0.7955\n",
      "Epoch 2/100\n",
      "5359/5359 [==============================] - 4s 742us/sample - loss: 0.5417 - acc: 0.7960 - val_loss: 0.4976 - val_acc: 0.7955\n",
      "Epoch 3/100\n",
      "5359/5359 [==============================] - 3s 607us/sample - loss: 0.5131 - acc: 0.7972 - val_loss: 0.4824 - val_acc: 0.7955\n",
      "Epoch 4/100\n",
      "5359/5359 [==============================] - 3s 588us/sample - loss: 0.4960 - acc: 0.7975 - val_loss: 0.4717 - val_acc: 0.7955\n",
      "Epoch 5/100\n",
      "5359/5359 [==============================] - 3s 631us/sample - loss: 0.4884 - acc: 0.7992 - val_loss: 0.4636 - val_acc: 0.7963\n",
      "Epoch 6/100\n",
      "5359/5359 [==============================] - 3s 652us/sample - loss: 0.4807 - acc: 0.8003 - val_loss: 0.4577 - val_acc: 0.7970\n",
      "Epoch 7/100\n",
      "5359/5359 [==============================] - 4s 655us/sample - loss: 0.4735 - acc: 0.8016 - val_loss: 0.4512 - val_acc: 0.7982\n",
      "Epoch 8/100\n",
      "5359/5359 [==============================] - 3s 586us/sample - loss: 0.4678 - acc: 0.8037 - val_loss: 0.4469 - val_acc: 0.8012\n",
      "Epoch 9/100\n",
      "5359/5359 [==============================] - 3s 595us/sample - loss: 0.4584 - acc: 0.8035 - val_loss: 0.4402 - val_acc: 0.8039\n",
      "Epoch 10/100\n",
      "5359/5359 [==============================] - 3s 604us/sample - loss: 0.4606 - acc: 0.8056 - val_loss: 0.4359 - val_acc: 0.8061\n",
      "Epoch 11/100\n",
      "5359/5359 [==============================] - 4s 797us/sample - loss: 0.4559 - acc: 0.8059 - val_loss: 0.4324 - val_acc: 0.8088\n",
      "Epoch 12/100\n",
      "5359/5359 [==============================] - 5s 895us/sample - loss: 0.4516 - acc: 0.8020 - val_loss: 0.4289 - val_acc: 0.8084\n",
      "Epoch 13/100\n",
      "5359/5359 [==============================] - 4s 694us/sample - loss: 0.4513 - acc: 0.8054 - val_loss: 0.4236 - val_acc: 0.8114\n",
      "Epoch 14/100\n",
      "5359/5359 [==============================] - 3s 614us/sample - loss: 0.4451 - acc: 0.8059 - val_loss: 0.4196 - val_acc: 0.8118\n",
      "Epoch 15/100\n",
      "5359/5359 [==============================] - 4s 677us/sample - loss: 0.4426 - acc: 0.8085 - val_loss: 0.4174 - val_acc: 0.8111\n",
      "Epoch 16/100\n",
      "5359/5359 [==============================] - 4s 805us/sample - loss: 0.4409 - acc: 0.8087 - val_loss: 0.4129 - val_acc: 0.8129\n",
      "Epoch 17/100\n",
      "5359/5359 [==============================] - 4s 806us/sample - loss: 0.4371 - acc: 0.8117 - val_loss: 0.4110 - val_acc: 0.8141\n",
      "Epoch 18/100\n",
      "5359/5359 [==============================] - 5s 914us/sample - loss: 0.4330 - acc: 0.8158 - val_loss: 0.4088 - val_acc: 0.8148\n",
      "Epoch 19/100\n",
      "5359/5359 [==============================] - 6s 1ms/sample - loss: 0.4438 - acc: 0.8102 - val_loss: 0.4116 - val_acc: 0.8126\n",
      "Epoch 20/100\n",
      "5359/5359 [==============================] - 4s 675us/sample - loss: 0.4332 - acc: 0.8175 - val_loss: 0.4062 - val_acc: 0.8133\n",
      "Epoch 21/100\n",
      "5359/5359 [==============================] - 4s 786us/sample - loss: 0.4336 - acc: 0.8192 - val_loss: 0.4052 - val_acc: 0.8133\n",
      "Epoch 22/100\n",
      "5359/5359 [==============================] - 3s 584us/sample - loss: 0.4364 - acc: 0.8158 - val_loss: 0.4083 - val_acc: 0.8129\n",
      "Epoch 23/100\n",
      "5359/5359 [==============================] - 4s 656us/sample - loss: 0.4319 - acc: 0.8192 - val_loss: 0.4048 - val_acc: 0.8148\n",
      "Epoch 24/100\n",
      "5359/5359 [==============================] - 3s 583us/sample - loss: 0.4325 - acc: 0.8182 - val_loss: 0.4024 - val_acc: 0.8129\n",
      "Epoch 25/100\n",
      "5359/5359 [==============================] - 4s 695us/sample - loss: 0.4331 - acc: 0.8175 - val_loss: 0.4030 - val_acc: 0.8156\n",
      "Epoch 26/100\n",
      "5359/5359 [==============================] - 5s 890us/sample - loss: 0.4276 - acc: 0.8233 - val_loss: 0.4018 - val_acc: 0.8148\n",
      "Epoch 27/100\n",
      "5359/5359 [==============================] - 5s 913us/sample - loss: 0.4351 - acc: 0.8181 - val_loss: 0.4016 - val_acc: 0.8126\n",
      "Epoch 28/100\n",
      "5359/5359 [==============================] - 4s 824us/sample - loss: 0.4328 - acc: 0.8184 - val_loss: 0.4022 - val_acc: 0.8156\n",
      "Epoch 29/100\n",
      "5359/5359 [==============================] - 3s 627us/sample - loss: 0.4302 - acc: 0.8225 - val_loss: 0.4002 - val_acc: 0.8152\n",
      "Epoch 30/100\n",
      "5359/5359 [==============================] - 3s 604us/sample - loss: 0.4238 - acc: 0.8188 - val_loss: 0.3956 - val_acc: 0.8224\n",
      "Epoch 31/100\n",
      "5359/5359 [==============================] - 3s 645us/sample - loss: 0.4208 - acc: 0.8218 - val_loss: 0.3959 - val_acc: 0.8190\n",
      "Epoch 32/100\n",
      "5359/5359 [==============================] - 3s 590us/sample - loss: 0.4247 - acc: 0.8240 - val_loss: 0.3974 - val_acc: 0.8183\n",
      "Epoch 33/100\n",
      "5359/5359 [==============================] - 3s 593us/sample - loss: 0.4247 - acc: 0.8201 - val_loss: 0.3959 - val_acc: 0.8186\n",
      "Epoch 34/100\n",
      "5359/5359 [==============================] - 3s 585us/sample - loss: 0.4321 - acc: 0.8188 - val_loss: 0.3990 - val_acc: 0.8129\n",
      "Epoch 35/100\n",
      "5359/5359 [==============================] - 3s 602us/sample - loss: 0.4252 - acc: 0.8209 - val_loss: 0.3965 - val_acc: 0.8133\n",
      "Epoch 36/100\n",
      "5359/5359 [==============================] - 4s 723us/sample - loss: 0.4202 - acc: 0.8255 - val_loss: 0.3915 - val_acc: 0.8220\n",
      "Epoch 37/100\n",
      "5359/5359 [==============================] - 3s 619us/sample - loss: 0.4258 - acc: 0.8248 - val_loss: 0.3912 - val_acc: 0.8243\n",
      "Epoch 38/100\n",
      "5359/5359 [==============================] - 4s 787us/sample - loss: 0.4212 - acc: 0.8227 - val_loss: 0.3907 - val_acc: 0.8258\n",
      "Epoch 39/100\n",
      "5359/5359 [==============================] - 4s 703us/sample - loss: 0.4212 - acc: 0.8238 - val_loss: 0.3926 - val_acc: 0.8179\n",
      "Epoch 40/100\n",
      "5359/5359 [==============================] - 4s 794us/sample - loss: 0.4283 - acc: 0.8220 - val_loss: 0.3956 - val_acc: 0.8148\n",
      "Epoch 41/100\n",
      "5359/5359 [==============================] - 3s 591us/sample - loss: 0.4242 - acc: 0.8240 - val_loss: 0.3933 - val_acc: 0.8205\n",
      "Epoch 42/100\n",
      "5359/5359 [==============================] - 3s 585us/sample - loss: 0.4215 - acc: 0.8224 - val_loss: 0.3905 - val_acc: 0.8205\n",
      "Epoch 43/100\n",
      "5359/5359 [==============================] - 3s 623us/sample - loss: 0.4249 - acc: 0.8229 - val_loss: 0.3922 - val_acc: 0.8213\n",
      "Epoch 44/100\n",
      "5359/5359 [==============================] - 3s 582us/sample - loss: 0.4315 - acc: 0.8196 - val_loss: 0.3930 - val_acc: 0.8194\n",
      "Epoch 45/100\n",
      "5359/5359 [==============================] - 3s 644us/sample - loss: 0.4240 - acc: 0.8250 - val_loss: 0.3901 - val_acc: 0.8239\n",
      "Epoch 46/100\n",
      "5359/5359 [==============================] - 3s 615us/sample - loss: 0.4192 - acc: 0.8263 - val_loss: 0.3927 - val_acc: 0.8224\n",
      "Epoch 47/100\n",
      "5359/5359 [==============================] - 4s 759us/sample - loss: 0.4234 - acc: 0.8194 - val_loss: 0.3937 - val_acc: 0.8179\n",
      "Epoch 48/100\n",
      "5359/5359 [==============================] - 5s 948us/sample - loss: 0.4155 - acc: 0.8252 - val_loss: 0.3896 - val_acc: 0.8281\n",
      "Epoch 49/100\n",
      "5359/5359 [==============================] - 6s 1ms/sample - loss: 0.4162 - acc: 0.8272 - val_loss: 0.3897 - val_acc: 0.8266\n",
      "Epoch 50/100\n",
      "5359/5359 [==============================] - 4s 807us/sample - loss: 0.4233 - acc: 0.8242 - val_loss: 0.3916 - val_acc: 0.8167\n",
      "Epoch 51/100\n",
      "5359/5359 [==============================] - 4s 702us/sample - loss: 0.4260 - acc: 0.8229 - val_loss: 0.3894 - val_acc: 0.8205\n",
      "Epoch 52/100\n",
      "5359/5359 [==============================] - 4s 718us/sample - loss: 0.4206 - acc: 0.8235 - val_loss: 0.3882 - val_acc: 0.8220\n",
      "Epoch 53/100\n",
      "5359/5359 [==============================] - 4s 749us/sample - loss: 0.4247 - acc: 0.8238 - val_loss: 0.3920 - val_acc: 0.8198\n",
      "Epoch 54/100\n",
      "5359/5359 [==============================] - 4s 692us/sample - loss: 0.4286 - acc: 0.8197 - val_loss: 0.3924 - val_acc: 0.8224\n",
      "Epoch 55/100\n",
      "5359/5359 [==============================] - 4s 724us/sample - loss: 0.4231 - acc: 0.8261 - val_loss: 0.3870 - val_acc: 0.8296\n",
      "Epoch 56/100\n",
      "5359/5359 [==============================] - 4s 737us/sample - loss: 0.4235 - acc: 0.8238 - val_loss: 0.3921 - val_acc: 0.8251\n",
      "Epoch 57/100\n",
      "5359/5359 [==============================] - 5s 1ms/sample - loss: 0.4285 - acc: 0.8203 - val_loss: 0.3952 - val_acc: 0.8160\n",
      "Epoch 58/100\n",
      "5359/5359 [==============================] - 5s 949us/sample - loss: 0.4273 - acc: 0.8205 - val_loss: 0.3941 - val_acc: 0.8183\n"
     ]
    },
    {
     "name": "stdout",
     "output_type": "stream",
     "text": [
      "Epoch 59/100\n",
      "5359/5359 [==============================] - 5s 861us/sample - loss: 0.4182 - acc: 0.8222 - val_loss: 0.3860 - val_acc: 0.8281\n",
      "Epoch 60/100\n",
      "5359/5359 [==============================] - 4s 779us/sample - loss: 0.4187 - acc: 0.8231 - val_loss: 0.3903 - val_acc: 0.8201\n",
      "Epoch 61/100\n",
      "5359/5359 [==============================] - 4s 756us/sample - loss: 0.4274 - acc: 0.8190 - val_loss: 0.3916 - val_acc: 0.8190\n",
      "Epoch 62/100\n",
      "5359/5359 [==============================] - 3s 650us/sample - loss: 0.4248 - acc: 0.8184 - val_loss: 0.3874 - val_acc: 0.8273\n",
      "Epoch 63/100\n",
      "5359/5359 [==============================] - 3s 642us/sample - loss: 0.4221 - acc: 0.8190 - val_loss: 0.3881 - val_acc: 0.8262\n",
      "Epoch 64/100\n",
      "5359/5359 [==============================] - 4s 695us/sample - loss: 0.4242 - acc: 0.8238 - val_loss: 0.3875 - val_acc: 0.8273\n",
      "Epoch 65/100\n",
      "5359/5359 [==============================] - 4s 741us/sample - loss: 0.4186 - acc: 0.8242 - val_loss: 0.3867 - val_acc: 0.8262\n",
      "Epoch 66/100\n",
      "5359/5359 [==============================] - 4s 724us/sample - loss: 0.4196 - acc: 0.8214 - val_loss: 0.3886 - val_acc: 0.8190\n",
      "Epoch 67/100\n",
      "5359/5359 [==============================] - 4s 802us/sample - loss: 0.4201 - acc: 0.8227 - val_loss: 0.3892 - val_acc: 0.8213\n",
      "Epoch 68/100\n",
      "5359/5359 [==============================] - 4s 828us/sample - loss: 0.4281 - acc: 0.8227 - val_loss: 0.3912 - val_acc: 0.8194\n",
      "Epoch 69/100\n",
      "5359/5359 [==============================] - 4s 749us/sample - loss: 0.4226 - acc: 0.8240 - val_loss: 0.3911 - val_acc: 0.8209\n",
      "Epoch 70/100\n",
      "5359/5359 [==============================] - 4s 722us/sample - loss: 0.4189 - acc: 0.8257 - val_loss: 0.3890 - val_acc: 0.8262\n",
      "Epoch 71/100\n",
      "5359/5359 [==============================] - 4s 736us/sample - loss: 0.4127 - acc: 0.8263 - val_loss: 0.3883 - val_acc: 0.8281\n",
      "Epoch 72/100\n",
      "5359/5359 [==============================] - 4s 838us/sample - loss: 0.4180 - acc: 0.8233 - val_loss: 0.3891 - val_acc: 0.8258\n",
      "Epoch 73/100\n",
      "5359/5359 [==============================] - 4s 741us/sample - loss: 0.4287 - acc: 0.8227 - val_loss: 0.3914 - val_acc: 0.8232\n",
      "Epoch 74/100\n",
      "5359/5359 [==============================] - 4s 699us/sample - loss: 0.4254 - acc: 0.8197 - val_loss: 0.3906 - val_acc: 0.8232\n",
      "Epoch 75/100\n",
      "5359/5359 [==============================] - 4s 763us/sample - loss: 0.4241 - acc: 0.8216 - val_loss: 0.3877 - val_acc: 0.8277\n",
      "Epoch 76/100\n",
      "5359/5359 [==============================] - 4s 796us/sample - loss: 0.4194 - acc: 0.8253 - val_loss: 0.3868 - val_acc: 0.8277\n",
      "Epoch 77/100\n",
      "5359/5359 [==============================] - 4s 761us/sample - loss: 0.4227 - acc: 0.8203 - val_loss: 0.3889 - val_acc: 0.8220\n",
      "Epoch 78/100\n",
      "5359/5359 [==============================] - 4s 762us/sample - loss: 0.4181 - acc: 0.8252 - val_loss: 0.3894 - val_acc: 0.8224\n",
      "Epoch 79/100\n",
      "5359/5359 [==============================] - 4s 744us/sample - loss: 0.4212 - acc: 0.8225 - val_loss: 0.3890 - val_acc: 0.8224\n",
      "Epoch 80/100\n",
      "5359/5359 [==============================] - 4s 810us/sample - loss: 0.4229 - acc: 0.8194 - val_loss: 0.3864 - val_acc: 0.8270\n",
      "Epoch 81/100\n",
      "5359/5359 [==============================] - 4s 785us/sample - loss: 0.4176 - acc: 0.8265 - val_loss: 0.3848 - val_acc: 0.8292\n",
      "Epoch 82/100\n",
      "5359/5359 [==============================] - 4s 812us/sample - loss: 0.4169 - acc: 0.8244 - val_loss: 0.3874 - val_acc: 0.8273\n",
      "Epoch 83/100\n",
      "5359/5359 [==============================] - 4s 802us/sample - loss: 0.4253 - acc: 0.8194 - val_loss: 0.3904 - val_acc: 0.8232\n",
      "Epoch 84/100\n",
      "5359/5359 [==============================] - 4s 818us/sample - loss: 0.4174 - acc: 0.8233 - val_loss: 0.3870 - val_acc: 0.8270\n",
      "Epoch 85/100\n",
      "5359/5359 [==============================] - 4s 733us/sample - loss: 0.4220 - acc: 0.8246 - val_loss: 0.3878 - val_acc: 0.8273\n",
      "Epoch 86/100\n",
      "5359/5359 [==============================] - 4s 724us/sample - loss: 0.4219 - acc: 0.8220 - val_loss: 0.3876 - val_acc: 0.8277\n",
      "Epoch 87/100\n",
      "5359/5359 [==============================] - 4s 748us/sample - loss: 0.4211 - acc: 0.8246 - val_loss: 0.3899 - val_acc: 0.8273\n",
      "Epoch 88/100\n",
      "5359/5359 [==============================] - 4s 811us/sample - loss: 0.4247 - acc: 0.8207 - val_loss: 0.3897 - val_acc: 0.8232\n",
      "Epoch 89/100\n",
      "5359/5359 [==============================] - 4s 783us/sample - loss: 0.4182 - acc: 0.8253 - val_loss: 0.3887 - val_acc: 0.8277\n",
      "Epoch 90/100\n",
      "5359/5359 [==============================] - 4s 705us/sample - loss: 0.4190 - acc: 0.8214 - val_loss: 0.3881 - val_acc: 0.8236\n",
      "Epoch 91/100\n",
      "5359/5359 [==============================] - 4s 811us/sample - loss: 0.4215 - acc: 0.8229 - val_loss: 0.3873 - val_acc: 0.8292\n",
      "Epoch 92/100\n",
      "5359/5359 [==============================] - 4s 819us/sample - loss: 0.4184 - acc: 0.8214 - val_loss: 0.3842 - val_acc: 0.8326\n",
      "Epoch 93/100\n",
      "5359/5359 [==============================] - 4s 825us/sample - loss: 0.4257 - acc: 0.8212 - val_loss: 0.3888 - val_acc: 0.8262\n",
      "Epoch 94/100\n",
      "5359/5359 [==============================] - 4s 754us/sample - loss: 0.4230 - acc: 0.8231 - val_loss: 0.3897 - val_acc: 0.8251\n",
      "Epoch 95/100\n",
      "5359/5359 [==============================] - 4s 777us/sample - loss: 0.4175 - acc: 0.8240 - val_loss: 0.3884 - val_acc: 0.8239\n",
      "Epoch 96/100\n",
      "5359/5359 [==============================] - 4s 782us/sample - loss: 0.4188 - acc: 0.8224 - val_loss: 0.3891 - val_acc: 0.8254\n",
      "Epoch 97/100\n",
      "5359/5359 [==============================] - 4s 788us/sample - loss: 0.4217 - acc: 0.8238 - val_loss: 0.3903 - val_acc: 0.8243\n",
      "Epoch 98/100\n",
      "5359/5359 [==============================] - 4s 806us/sample - loss: 0.4217 - acc: 0.8252 - val_loss: 0.3899 - val_acc: 0.8277\n",
      "Epoch 99/100\n",
      "5359/5359 [==============================] - 5s 899us/sample - loss: 0.4150 - acc: 0.8240 - val_loss: 0.3855 - val_acc: 0.8285\n",
      "Epoch 100/100\n",
      "5359/5359 [==============================] - 4s 781us/sample - loss: 0.4212 - acc: 0.8207 - val_loss: 0.3872 - val_acc: 0.8266\n"
     ]
    }
   ],
   "source": [
    "model_history = classifier.fit(X_train,y_train,validation_split=0.33,batch_size=10,nb_epoch=100)"
   ]
  },
  {
   "cell_type": "code",
   "execution_count": 36,
   "metadata": {},
   "outputs": [
    {
     "name": "stdout",
     "output_type": "stream",
     "text": [
      "dict_keys(['loss', 'acc', 'val_loss', 'val_acc'])\n"
     ]
    }
   ],
   "source": [
    "print(model_history.history.keys())"
   ]
  },
  {
   "cell_type": "code",
   "execution_count": 37,
   "metadata": {},
   "outputs": [
    {
     "data": {
      "image/png": "[encoded data removed]",
      "text/plain": [
       "<Figure size 432x288 with 1 Axes>"
      ]
     },
     "metadata": {
      "needs_background": "light"
     },
     "output_type": "display_data"
    }
   ],
   "source": [
    "### History for accuracy\n",
    "\n",
    "plt.plot(model_history.history['acc'])\n",
    "plt.plot(model_history.history['val_acc'])\n",
    "plt.title('Model Accuracy')\n",
    "plt.ylabel('Accuracy')\n",
    "plt.xlabel('Epochs')\n",
    "plt.legend(['train','test'],loc='upper left')\n",
    "plt.show()"
   ]
  },
  {
   "cell_type": "code",
   "execution_count": 38,
   "metadata": {},
   "outputs": [
    {
     "data": {
      "image/png": "[encoded data removed]",
      "text/plain": [
       "<Figure size 432x288 with 1 Axes>"
      ]
     },
     "metadata": {
      "needs_background": "light"
     },
     "output_type": "display_data"
    }
   ],
   "source": [
    "### History for Loss\n",
    "\n",
    "plt.plot(model_history.history['loss'])\n",
    "plt.plot(model_history.history['val_loss'])\n",
    "plt.title('Model Loss')\n",
    "plt.ylabel('Loss')\n",
    "plt.xlabel('Epochs')\n",
    "plt.legend(['train','test'],loc='upper left')\n",
    "plt.show()"
   ]
  },
  {
   "cell_type": "code",
   "execution_count": 39,
   "metadata": {},
   "outputs": [
    {
     "data": {
      "text/plain": [
       "array([[0.29293072],\n",
       "       [0.28492603],\n",
       "       [0.23044398],\n",
       "       ...,\n",
       "       [0.20967868],\n",
       "       [0.17453215],\n",
       "       [0.18269944]], dtype=float32)"
      ]
     },
     "execution_count": 39,
     "metadata": {},
     "output_type": "execute_result"
    }
   ],
   "source": [
    "y_pred = classifier.predict(X_test)\n",
    "y_pred"
   ]
  },
  {
   "cell_type": "code",
   "execution_count": 40,
   "metadata": {},
   "outputs": [
    {
     "data": {
      "text/plain": [
       "array([[False],\n",
       "       [False],\n",
       "       [False],\n",
       "       ...,\n",
       "       [False],\n",
       "       [False],\n",
       "       [False]])"
      ]
     },
     "execution_count": 40,
     "metadata": {},
     "output_type": "execute_result"
    }
   ],
   "source": [
    "y_pred = (y_pred>0.5)\n",
    "y_pred"
   ]
  },
  {
   "cell_type": "code",
   "execution_count": 41,
   "metadata": {},
   "outputs": [
    {
     "name": "stdout",
     "output_type": "stream",
     "text": [
      "0.8295\n",
      "[[1588    7]\n",
      " [ 334   71]]\n",
      "              precision    recall  f1-score   support\n",
      "\n",
      "           0       0.83      1.00      0.90      1595\n",
      "           1       0.91      0.18      0.29       405\n",
      "\n",
      "    accuracy                           0.83      2000\n",
      "   macro avg       0.87      0.59      0.60      2000\n",
      "weighted avg       0.84      0.83      0.78      2000\n",
      "\n"
     ]
    }
   ],
   "source": [
    "from sklearn.metrics import confusion_matrix,accuracy_score,classification_report\n",
    "\n",
    "print(accuracy_score(y_test,y_pred))\n",
    "print(confusion_matrix(y_test,y_pred))\n",
    "print(classification_report(y_test,y_pred))"
   ]
  }
 ],
 "metadata": {
  "kernelspec": {
   "display_name": "Python 3",
   "language": "python",
   "name": "python3"
  },
  "language_info": {
   "codemirror_mode": {
    "name": "ipython",
    "version": 3
   },
   "file_extension": ".py",
   "mimetype": "text/x-python",
   "name": "python",
   "nbconvert_exporter": "python",
   "pygments_lexer": "ipython3",
   "version": "3.7.9"
  }
 },
 "nbformat": 4,
 "nbformat_minor": 4
}
